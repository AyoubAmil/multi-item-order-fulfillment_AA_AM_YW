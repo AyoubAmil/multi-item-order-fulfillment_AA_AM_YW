{
 "cells": [
  {
   "cell_type": "code",
   "execution_count": 1,
   "metadata": {},
   "outputs": [],
   "source": [
    "import os\n",
    "import numpy as np\n",
    "import ast\n",
    "from order_fulfillment_environment import OrderFulfillment\n",
    "from LP_fulfillment_item_facility_based import ItemFacilityLPSolver\n",
    "from fulfillment_policy_Will_Ma import WillMaFulfillmentPolicy\n",
    "from fulfillment_policy import FulfillmentPolicy"
   ]
  },
  {
   "cell_type": "code",
   "execution_count": 2,
   "metadata": {},
   "outputs": [],
   "source": [
    "num_items = 20\n",
    "n_max = 5\n",
    "n_0 = 5\n",
    "p_stock = 0.75\n",
    "CSL=0.5\n",
    "T = 10**2\n",
    "\n",
    "instance = 1\n",
    "\n",
    "facility_path = \"fulfillment_centers_warmup.csv\"\n",
    "cities_path = \"cities_warmup.csv\"\n",
    "home_path = \"/Users/ayoubamil/Documents/Documents/GitHub/fulfillment-magician_AA_AM_YW/ORDER_FULFILLMENT/Data\"\n",
    "facilities_path = os.path.join(home_path, facility_path)\n",
    "cities_path =  os.path.join(home_path, cities_path)"
   ]
  },
  {
   "cell_type": "code",
   "execution_count": 3,
   "metadata": {},
   "outputs": [
    {
     "name": "stdout",
     "output_type": "stream",
     "text": [
      "Set parameter Username\n",
      "Academic license - for non-commercial use only - expires 2024-09-12\n"
     ]
    }
   ],
   "source": [
    "order_fulfillment = OrderFulfillment(num_items=num_items, n_max=n_max, n_0=n_0, p_stock=p_stock, T=T, CSL=CSL, \n",
    "                                    facilities_data=facilities_path, \n",
    "                                    cities_data=cities_path, \n",
    "                                    prob_seed_value=instance, \n",
    "                                    order_seed_value=instance, \n",
    "                                    inv_seed_value=instance)\n",
    "fulfillment_policy = FulfillmentPolicy(num_items=num_items, n_max=n_max, n_0=n_0, p_stock=p_stock, T=T, CSL=CSL, \n",
    "                                    facilities_data=facilities_path, \n",
    "                                    cities_data=cities_path, \n",
    "                                    prob_seed_value=instance, \n",
    "                                    order_seed_value=instance, \n",
    "                                    inv_seed_value=instance)"
   ]
  },
  {
   "attachments": {},
   "cell_type": "markdown",
   "metadata": {},
   "source": [
    "# CALCULATE DLP COSTS"
   ]
  },
  {
   "cell_type": "code",
   "execution_count": 4,
   "metadata": {},
   "outputs": [],
   "source": [
    "def DLP_WillMa(order_fulfillment, print_optimal_values=False):\n",
    "    \n",
    "    solver = ItemFacilityLPSolver(order_fulfillment)\n",
    "\n",
    "    results = solver.optimize()\n",
    "\n",
    "    # Extract the results\n",
    "    optimal_u = results[\"optimal_u\"]\n",
    "    optimal_y = results[\"optimal_y\"]\n",
    "    num_vars = results[\"num_vars\"]\n",
    "    num_constrs = results[\"num_constrs\"]\n",
    "    optimal_value = results[\"optimal_value\"]\n",
    "\n",
    "    # Step 4: Check if optimization was successful and print results\n",
    "    if optimal_u and optimal_y:\n",
    "        \n",
    "        if print_optimal_values:\n",
    "            print(\"Optimal 'u' values:\")\n",
    "            for var_name, value in optimal_u.items():\n",
    "                print(f\"{var_name} = {value}\")\n",
    "\n",
    "            print(\"\\nOptimal 'y' values:\")\n",
    "            for var_name, value in optimal_y.items():\n",
    "                print(f\"{var_name} = {value}\")\n",
    "\n",
    "        return num_vars, num_constrs, optimal_value, optimal_u, optimal_y\n",
    "    \n",
    "    else:\n",
    "        print(\"Optimization did not find an optimal solution for Will Ma's formulation.\")"
   ]
  },
  {
   "cell_type": "code",
   "execution_count": 5,
   "metadata": {},
   "outputs": [],
   "source": [
    "def DLP_ours(fulfillment_policy, print_optimal_values=False):\n",
    "    # Call the method and get the results\n",
    "    results = fulfillment_policy.get_optimization_results\n",
    "\n",
    "    # Check if the optimization was successful and optionally print the results\n",
    "    if results is not None:\n",
    "        if print_optimal_values:\n",
    "            print(\"Optimal 'x' values:\")\n",
    "            for q, x_values in results[\"x_values\"].items():\n",
    "                print(f\"Order Type {q}:\")\n",
    "                for method_index, value in x_values.items():\n",
    "                    print(f\"  Method {method_index}: {value}\")\n",
    "\n",
    "            print(f\"\\nNumber of decision variables: {results['num_vars']}\")\n",
    "            print(f\"Number of constraints: {results['num_constrs']}\")\n",
    "            print(f\"Optimal objective value: {results['optimal_value']}\")\n",
    "\n",
    "        return results[\"num_vars\"], results[\"num_constrs\"], results[\"optimal_value\"]\n",
    "    \n",
    "    else:\n",
    "        print(\"Optimization did not find an optimal solution for our formulation.\")\n",
    "        return None"
   ]
  },
  {
   "cell_type": "code",
   "execution_count": 6,
   "metadata": {},
   "outputs": [
    {
     "data": {
      "text/plain": [
       "(32760, 5350, 1228.2835772124886)"
      ]
     },
     "execution_count": 6,
     "metadata": {},
     "output_type": "execute_result"
    }
   ],
   "source": [
    "num_vars, num_constrs, optimal_value, optimal_u, optimal_y = DLP_WillMa(order_fulfillment)\n",
    "num_vars, num_constrs, optimal_value"
   ]
  },
  {
   "cell_type": "code",
   "execution_count": 7,
   "metadata": {},
   "outputs": [
    {
     "data": {
      "text/plain": [
       "(164300, 360, 1257.7303335467377)"
      ]
     },
     "execution_count": 7,
     "metadata": {},
     "output_type": "execute_result"
    }
   ],
   "source": [
    "DLP_ours(fulfillment_policy)"
   ]
  },
  {
   "attachments": {},
   "cell_type": "markdown",
   "metadata": {},
   "source": [
    "# CALCULATE ALGORITHM COSTS"
   ]
  },
  {
   "cell_type": "code",
   "execution_count": 22,
   "metadata": {},
   "outputs": [
    {
     "name": "stdout",
     "output_type": "stream",
     "text": [
      "expected number of broken wands larger than the available ones\n",
      "expected number of broken wands larger than the available ones\n",
      "expected number of broken wands larger than the available ones\n",
      "expected number of broken wands larger than the available ones\n",
      "expected number of broken wands larger than the available ones\n",
      "expected number of broken wands larger than the available ones\n",
      "expected number of broken wands larger than the available ones\n",
      "expected number of broken wands larger than the available ones\n",
      "expected number of broken wands larger than the available ones\n",
      "expected number of broken wands larger than the available ones\n",
      "expected number of broken wands larger than the available ones\n",
      "expected number of broken wands larger than the available ones\n",
      "expected number of broken wands larger than the available ones\n",
      "expected number of broken wands larger than the available ones\n",
      "expected number of broken wands larger than the available ones\n"
     ]
    },
    {
     "data": {
      "text/plain": [
       "1599.099741198408"
      ]
     },
     "execution_count": 22,
     "metadata": {},
     "output_type": "execute_result"
    }
   ],
   "source": [
    "conservative_prob = 0.25\n",
    "seed_order_sequence = 2\n",
    "inventory_consumption = fulfillment_policy.initialize_inventory_consumption()\n",
    "magician_problems = fulfillment_policy.generate_magician_problems(conservative_prob=conservative_prob)\n",
    "\n",
    "sampled_orders_index, sampled_orders, sampled_methods, accepts_decisions, fulfillment_costs = fulfillment_policy.new_fulfillment_policy(inventory_consumption, magician_problems, seed_value=seed_order_sequence)\n",
    "fulfillment_policy.check_consistency(inventory_consumption)\n",
    "\n",
    "our_cost = sum(fulfillment_costs)\n",
    "our_cost"
   ]
  },
  {
   "cell_type": "code",
   "execution_count": 23,
   "metadata": {},
   "outputs": [
    {
     "data": {
      "text/plain": [
       "1659.5079081659726"
      ]
     },
     "execution_count": 23,
     "metadata": {},
     "output_type": "execute_result"
    }
   ],
   "source": [
    "will_ma_policy = WillMaFulfillmentPolicy(order_fulfillment, optimal_u)\n",
    "will_ma_cost = will_ma_policy.run(sampled_orders, seed_value=1)\n",
    "will_ma_cost"
   ]
  },
  {
   "cell_type": "code",
   "execution_count": null,
   "metadata": {},
   "outputs": [],
   "source": []
  }
 ],
 "metadata": {
  "kernelspec": {
   "display_name": "Python 3",
   "language": "python",
   "name": "python3"
  },
  "language_info": {
   "codemirror_mode": {
    "name": "ipython",
    "version": 3
   },
   "file_extension": ".py",
   "mimetype": "text/x-python",
   "name": "python",
   "nbconvert_exporter": "python",
   "pygments_lexer": "ipython3",
   "version": "3.9.5"
  },
  "orig_nbformat": 4,
  "vscode": {
   "interpreter": {
    "hash": "2ac85b258e6f1aacd8a339ff9c1932e82085d063424191d145bf0976e434bf30"
   }
  }
 },
 "nbformat": 4,
 "nbformat_minor": 2
}
