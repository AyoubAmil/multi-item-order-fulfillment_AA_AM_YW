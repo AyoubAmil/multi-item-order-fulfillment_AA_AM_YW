{
 "cells": [
  {
   "cell_type": "code",
   "execution_count": 1,
   "metadata": {},
   "outputs": [],
   "source": [
    "import os\n",
    "from order_fulfillment_environment_notidentical_arrival_probs import OrderFulfillment"
   ]
  },
  {
   "cell_type": "code",
   "execution_count": 2,
   "metadata": {},
   "outputs": [],
   "source": [
    "def compute_kappa(all_costs):\n",
    "    \"\"\"\n",
    "    Computes the kappa value for a given set of costs (all_costs is a list of lists, where each inner list is a list of costs for a given order type)\n",
    "    \"\"\"\n",
    "    kappa_values = []\n",
    "    for costs in all_costs:\n",
    "        if costs != [0]:  # Skip lists that contain only [0]\n",
    "            max_cost = max(costs)\n",
    "            min_cost = min(costs)\n",
    "            if min_cost > 0:  # Ensure min_cost is not zero to avoid division by zero\n",
    "                kappa_value = max_cost / min_cost\n",
    "                kappa_values.append(kappa_value)\n",
    "    # Taking the maximum of the ratios\n",
    "    kappa = max(kappa_values) if kappa_values else 0\n",
    "    return kappa_values, kappa"
   ]
  },
  {
   "cell_type": "code",
   "execution_count": 3,
   "metadata": {},
   "outputs": [],
   "source": [
    "# Parameters for the environment\n",
    "num_items = 20\n",
    "n_0 = 5\n",
    "p_stock = 0.75\n",
    "CSL=0.5\n",
    "facility_path = \"fulfillment_centers_warmup.csv\"\n",
    "cities_path = \"cities_warmup.csv\"\n",
    "home_path = \"/Users/ayoubamil/Documents/Documents/GitHub/fulfillment-magician_AA_AM_YW/ORDER_FULFILLMENT/Data\"\n",
    "facilities_path = os.path.join(home_path, facility_path)\n",
    "cities_path =  os.path.join(home_path, cities_path)\n",
    "\n",
    "# Parameters I can change\n",
    "n_max = 2\n",
    "instance = 1\n",
    "T = 1000\n",
    "alpha = 0.5\n",
    "\n",
    "order_fulfillment = OrderFulfillment(num_items=num_items, n_max=n_max, n_0=n_0, p_stock=p_stock, T=T, CSL=CSL, \n",
    "                                    facilities_data=facilities_path, \n",
    "                                    cities_data=cities_path, \n",
    "                                    prob_seed_value=instance, \n",
    "                                    order_seed_value=instance, \n",
    "                                    inv_seed_value=instance, \n",
    "                                    alpha=alpha)"
   ]
  },
  {
   "cell_type": "code",
   "execution_count": 4,
   "metadata": {},
   "outputs": [],
   "source": [
    "all_costs = order_fulfillment.all_costs"
   ]
  },
  {
   "cell_type": "code",
   "execution_count": 5,
   "metadata": {},
   "outputs": [
    {
     "name": "stdout",
     "output_type": "stream",
     "text": [
      "Kappa_values: [2.2844860112076177, 2.23980980517279, 2.1933665103340587, 2.1654340958124747, 2.1636177656648985, 2.15533104730239, 2.278484526955482, 2.187773875283275, 2.256555948344293, 2.279296044759478, 2.2844860112076177, 2.23980980517279, 2.1933665103340587, 2.224668879461449, 2.0750930445934315, 2.080359552691366, 2.278484526955482, 2.2195358954435704, 2.256555948344293, 2.279296044759478, 2.2844860112076177, 2.23980980517279, 2.1933665103340587, 2.1654340958124747, 2.1636177656648985, 2.15533104730239, 2.278484526955482, 2.187773875283275, 2.256555948344293, 2.279296044759478, 2.2844860112076177, 2.23980980517279, 2.132858978053456, 2.224668879461449, 2.1636177656648985, 2.15533104730239, 2.278484526955482, 2.2195358954435704, 2.256555948344293, 2.279296044759478, 2.2170633533583217, 2.23980980517279, 2.1933665103340587, 2.224668879461449, 2.1636177656648985, 2.15533104730239, 2.2208264193818574, 2.2195358954435704, 2.226847059660633, 2.2081097763280497, 4.3465294575254045, 4.2152358537198, 3.948797123867883, 4.132231905527133, 4.128879705842641, 4.067361754627803, 4.335475697856223, 4.20033526641521, 4.272890058802416, 4.3034824637610765, 4.3465294575254045, 3.834093668840933, 3.948797123867883, 3.9086089805138533, 4.128879705842641, 4.067361754627803, 4.335475697856223, 3.9731159283108486, 4.272890058802416, 4.3034824637610765, 4.1087928113003915, 4.2152358537198, 3.9384039752265028, 4.132231905527133, 3.76000241554738, 3.801030077994317, 4.131381014858555, 4.20033526641521, 4.167607025187798, 4.056564196164295, 4.1087928113003915, 4.2152358537198, 4.16133358493656, 4.132231905527133, 4.128879705842641, 4.067361754627803, 4.131381014858555, 4.20033526641521, 4.167607025187798, 4.056564196164295, 4.3465294575254045, 4.2152358537198, 4.16133358493656, 4.132231905527133, 4.128879705842641, 4.067361754627803, 4.335475697856223, 4.20033526641521, 4.272890058802416, 4.3034824637610765]\n",
      " Kappa: 4.3465294575254045\n"
     ]
    }
   ],
   "source": [
    "kappa_values, kappa = compute_kappa(all_costs)\n",
    "print(f\"Kappa_values: {kappa_values}\\n Kappa: {kappa}\")"
   ]
  },
  {
   "cell_type": "code",
   "execution_count": null,
   "metadata": {},
   "outputs": [],
   "source": []
  }
 ],
 "metadata": {
  "kernelspec": {
   "display_name": "Python 3",
   "language": "python",
   "name": "python3"
  },
  "language_info": {
   "codemirror_mode": {
    "name": "ipython",
    "version": 3
   },
   "file_extension": ".py",
   "mimetype": "text/x-python",
   "name": "python",
   "nbconvert_exporter": "python",
   "pygments_lexer": "ipython3",
   "version": "3.9.5"
  },
  "orig_nbformat": 4,
  "vscode": {
   "interpreter": {
    "hash": "2ac85b258e6f1aacd8a339ff9c1932e82085d063424191d145bf0976e434bf30"
   }
  }
 },
 "nbformat": 4,
 "nbformat_minor": 2
}
