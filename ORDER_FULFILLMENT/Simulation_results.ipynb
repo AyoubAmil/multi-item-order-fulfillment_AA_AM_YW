{
 "cells": [
  {
   "cell_type": "code",
   "execution_count": 1,
   "metadata": {},
   "outputs": [],
   "source": [
    "import matplotlib.pyplot as plt\n",
    "import numpy as np\n",
    "from order_fulfillment_environment import OrderFulfillment\n",
    "from fulfillment_policy import FulfillmentPolicy\n",
    "from tqdm import tqdm"
   ]
  },
  {
   "attachments": {},
   "cell_type": "markdown",
   "metadata": {},
   "source": [
    "# Small Network $J=10, K=5, n=20, T=10^5$"
   ]
  },
  {
   "attachments": {},
   "cell_type": "markdown",
   "metadata": {},
   "source": [
    "Moreover:\n",
    "- $n = 20$ (number of items)\n",
    "- $n_{max} \\in \\{2,5,10\\}$\n",
    "- $n_0 = 5$\n",
    "- $p_{stock} = 0.75$"
   ]
  },
  {
   "attachments": {},
   "cell_type": "markdown",
   "metadata": {},
   "source": [
    "### $n_{max} = 2$"
   ]
  },
  {
   "cell_type": "code",
   "execution_count": 2,
   "metadata": {},
   "outputs": [],
   "source": [
    "# fulfillment_instance = OrderFulfillment(num_items=20, n_max=5, n_0=5,\n",
    "#                                         p_stock=1, T=100, CSL=0.5,\n",
    "#                                         facilities_data=\"Data/fulfillment_centers_warmup_test.csv\", \n",
    "#                                         cities_data=\"Data/cities_warmup_test.csv\",\n",
    "#                                         prob_seed_value=11,\n",
    "#                                         order_seed_value=11,\n",
    "#                                         inv_seed_value=11)\n",
    "\n",
    "# print(fulfillment_instance.fixed_costs)\n",
    "# print(fulfillment_instance.unit_costs)"
   ]
  },
  {
   "cell_type": "code",
   "execution_count": 3,
   "metadata": {},
   "outputs": [],
   "source": [
    "# fulfillment_instance.order_types"
   ]
  },
  {
   "cell_type": "code",
   "execution_count": 4,
   "metadata": {},
   "outputs": [],
   "source": [
    "# fulfillment_instance.demand_distribution_by_type_by_location"
   ]
  },
  {
   "cell_type": "code",
   "execution_count": 5,
   "metadata": {},
   "outputs": [],
   "source": [
    "# sum(fulfillment_instance.demand_distribution_by_type_by_location[0:2][0][0])"
   ]
  },
  {
   "cell_type": "code",
   "execution_count": 6,
   "metadata": {},
   "outputs": [],
   "source": [
    "# sum(fulfillment_instance.demand_distribution_by_type_by_location[0:2][0][0]) + sum([sum(fulfillment_instance.demand_distribution_by_type_by_location[0:2][1][i]) for i in range(4)])"
   ]
  },
  {
   "cell_type": "code",
   "execution_count": 7,
   "metadata": {},
   "outputs": [],
   "source": [
    "# fulfillment_instance.all_methods_location[-25]['methods']"
   ]
  },
  {
   "cell_type": "code",
   "execution_count": 8,
   "metadata": {},
   "outputs": [],
   "source": [
    "# fulfillment_instance.all_costs[-25]"
   ]
  },
  {
   "cell_type": "code",
   "execution_count": 9,
   "metadata": {},
   "outputs": [],
   "source": [
    "\n",
    "def evaluate_policies(conservative_prob=0.01, T=10**2, num_instances=50, num_order_sequences=50, plot=False, modified=True):\n",
    "\n",
    "    times_our_policy_is_better = 0\n",
    "    times_our_policy_equal = 0\n",
    "    times_our_policy_worse = 0\n",
    "    \n",
    "    instances = np.arange(1, num_instances + 1)\n",
    "    \n",
    "    expected_cost_our_policy = []\n",
    "    expected_cost_aa = []\n",
    "    cost_difference = []\n",
    "    \n",
    "    # Accumulators for total cost\n",
    "    total_cost_our_policy = 0\n",
    "    total_cost_aa = 0\n",
    "\n",
    "    times_our_policy_better = []\n",
    "    times_aa_better = []\n",
    "    times_same_cost = []\n",
    "    \n",
    "    for instance in instances:\n",
    "        print('Instance', instance)\n",
    "        \n",
    "        fulfillment_instance = OrderFulfillment(num_items=20, n_max=5, n_0=5,\n",
    "                                                p_stock=1, T=T, CSL=0.5,\n",
    "                                                facilities_data=\"Data/fulfillment_centers_warmup_test.csv\", cities_data=\"Data/cities_warmup_test.csv\", prob_seed_value=instance, order_seed_value=instance, inv_seed_value=instance)\n",
    "        # Create an instance of FulfillmentPolicy (same as fulfillment_instance in this case)\n",
    "        fulfillment_policy = FulfillmentPolicy(num_items=20, n_max=5, n_0=5,\n",
    "                                                p_stock=1, T=T, CSL=0.5,\n",
    "                                                facilities_data=\"Data/fulfillment_centers_warmup_test.csv\", cities_data=\"Data/cities_warmup_test.csv\", prob_seed_value=instance, order_seed_value=instance, inv_seed_value=instance)\n",
    "        # Generate magician problems (dictionary where the keys are (i,k))\n",
    "        magician_problems = fulfillment_policy.generate_magician_problems(conservative_prob=conservative_prob)\n",
    "        \n",
    "        \n",
    "        # FOR EACH INSTANCE, GENERATE DIFFERENT ORDER SEQUENCES (i.e. order arrivals through time)\n",
    "        order_sequences = np.arange(1, num_order_sequences + 1) # seed_value for each order sequence\n",
    "\n",
    "        count_fulfillment_policy = 0\n",
    "        count_always_accept_policy = 0\n",
    "        tie = 0\n",
    "\n",
    "        expected_policy_cost = 0\n",
    "        expected_policy_cost_aa = 0\n",
    "\n",
    "        # for order_sequence in tqdm(order_sequences):\n",
    "        for order_sequence in tqdm(order_sequences):\n",
    "            \n",
    "            # Initialize inventory consumption for our fulfillment policy\n",
    "            if modified:\n",
    "                inventory_consumption = fulfillment_policy.initialize_inventory_consumption()\n",
    "                sampled_orders_index, sampled_orders, sampled_methods, accepts_decisions, fulfillment_costs = fulfillment_policy.modified_fulfillment_policy(inventory_consumption, magician_problems, seed_value=order_sequence)\n",
    "                fulfillment_policy.check_consistency(inventory_consumption)\n",
    "                total_fulfillment_cost = sum(fulfillment_costs)\n",
    "                print(sampled_orders)\n",
    "            else:\n",
    "                inventory_consumption = fulfillment_policy.initialize_inventory_consumption()\n",
    "                sampled_orders_index, sampled_orders, sampled_methods, accepts_decisions, fulfillment_costs = fulfillment_policy.fulfillment_policy(inventory_consumption, magician_problems, seed_value=order_sequence)\n",
    "                fulfillment_policy.check_consistency(inventory_consumption)\n",
    "                total_fulfillment_cost = sum(fulfillment_costs)\n",
    "                print(sampled_orders)\n",
    "            \n",
    "            # Initialize inventory consumption for always_accept_policy\n",
    "            inventory_consumption_aa = fulfillment_policy.initialize_inventory_consumption()\n",
    "            sampled_orders_index_aa, sampled_orders_aa, sampled_methods_aa, accepts_decisions_aa, fulfillment_costs_aa = fulfillment_policy.always_accept_policy(inventory_consumption_aa, seed_value=order_sequence)\n",
    "            fulfillment_policy.check_consistency(inventory_consumption)\n",
    "            total_always_accept_cost = sum(fulfillment_costs_aa)\n",
    "            print(sampled_orders_aa)\n",
    "\n",
    "            expected_policy_cost += total_fulfillment_cost\n",
    "            expected_policy_cost_aa += total_always_accept_cost\n",
    "\n",
    "            # Check which policy has lower costs and update counters accordingly\n",
    "            if total_fulfillment_cost < total_always_accept_cost:\n",
    "                count_fulfillment_policy += 1\n",
    "            elif total_always_accept_cost < total_fulfillment_cost:\n",
    "                count_always_accept_policy += 1\n",
    "            elif total_fulfillment_cost == total_always_accept_cost:\n",
    "                tie += 1\n",
    "\n",
    "        expected_policy_cost = round(expected_policy_cost/num_order_sequences,2) # expected cost over the number of order sequences\n",
    "        expected_policy_cost_aa = round(expected_policy_cost_aa/num_order_sequences,2) # expected cost over the number of order sequences\n",
    "\n",
    "        total_cost_our_policy += expected_policy_cost\n",
    "        total_cost_aa += expected_policy_cost_aa\n",
    "\n",
    "        if expected_policy_cost < expected_policy_cost_aa:\n",
    "            times_our_policy_is_better += 1\n",
    "        elif expected_policy_cost > expected_policy_cost_aa:\n",
    "            times_our_policy_worse += 1\n",
    "        elif expected_policy_cost == expected_policy_cost_aa:\n",
    "            times_our_policy_equal += 1\n",
    "            \n",
    "        expected_cost_our_policy.append(expected_policy_cost)\n",
    "        expected_cost_aa.append(expected_policy_cost_aa)\n",
    "        cost_difference.append(expected_policy_cost-expected_policy_cost_aa)\n",
    "        \n",
    "        times_our_policy_better.append(count_fulfillment_policy)\n",
    "        times_aa_better.append(count_always_accept_policy)\n",
    "        times_same_cost.append(tie)\n",
    "    \n",
    "    # Calculate average expected costs across instances\n",
    "    average_cost_our_policy = total_cost_our_policy / num_instances\n",
    "    average_cost_aa = total_cost_aa / num_instances\n",
    "            \n",
    "    if plot:\n",
    "        plt.figure(figsize=(10, 6))\n",
    "        plt.plot(instances, cost_difference, label='Difference our_policy-aa_policy', marker='o')\n",
    "        plt.xlabel('Instance')\n",
    "        plt.ylabel('Cost Difference')\n",
    "        plt.title('Difference in Expected Total Cost vs. Instance')\n",
    "        plt.legend()\n",
    "        plt.grid(True)\n",
    "        plt.show()\n",
    "\n",
    "    results = {\n",
    "        \"avg_cost_our_policy_over_instances\": average_cost_our_policy,\n",
    "        \"avg_cost_aa_over_instances\": average_cost_aa,\n",
    "        \"expected_cost_our_policy_per_instance\": expected_cost_our_policy,\n",
    "        \"expected_cost_aa_per_instance\": expected_cost_aa,\n",
    "        \"expected_cost_difference_per_instance\": cost_difference,\n",
    "        \"percent_better\": times_our_policy_is_better / num_instances * 100,\n",
    "        \"percent_equal\": times_our_policy_equal / num_instances * 100,\n",
    "        \"percent_worse\": times_our_policy_worse / num_instances * 100\n",
    "    }\n",
    "    \n",
    "    # with open(f'results_{T}.txt', 'w') as f:\n",
    "    #     f.write(\"Expected cost of our policy: \" + str(avg_cost_our_policy) + \"\\n\")\n",
    "    #     f.write(\"Expected cost of always_accept_policy: \" + str(avg_cost_aa) + \"\\n\")\n",
    "    #     f.write(\"Number of times magician-based fulfillment policy is better: \" + str(times_our_policy_better) + \"\\n\")\n",
    "    #     f.write(\"Number of times always_accept_policy is better: \" + str(times_aa_better) + \"\\n\")\n",
    "    #     f.write(\"Policies have the same cost: \" + str(times_same_cost) + \"\\n\")\n",
    "    \n",
    "    return results\n"
   ]
  },
  {
   "cell_type": "code",
   "execution_count": 12,
   "metadata": {},
   "outputs": [
    {
     "name": "stdout",
     "output_type": "stream",
     "text": [
      "Instance 1\n"
     ]
    },
    {
     "name": "stderr",
     "output_type": "stream",
     "text": [
      "100%|██████████| 1/1 [00:00<00:00, 495.25it/s]\n"
     ]
    },
    {
     "name": "stdout",
     "output_type": "stream",
     "text": [
      "[((18,), 0), ((0, 7, 14, 16), 0), ((0, 14, 19), 0), ((0, 17, 19), 0), ((18,), 0), ((7, 11, 15, 17), 0), ((0, 7, 14, 16), 0), ((12, 13), 0)]\n",
      "[((18,), 0), ((0, 7, 14, 16), 0), ((0, 14, 19), 0), ((0, 17, 19), 0), ((18,), 0), ((7, 11, 15, 17), 0), ((0, 7, 14, 16), 0), ((12, 13), 0)]\n",
      "Instance 2\n"
     ]
    },
    {
     "name": "stderr",
     "output_type": "stream",
     "text": [
      "100%|██████████| 1/1 [00:00<00:00, 487.03it/s]\n"
     ]
    },
    {
     "name": "stdout",
     "output_type": "stream",
     "text": [
      "[((), 0), ((11, 16, 17), 1), ((8, 9), 1), ((5, 18), 0), ((), 0), ((8, 14, 16), 1), ((11, 16, 17), 1), ((5,), 1)]\n",
      "[((), 0), ((11, 16, 17), 1), ((8, 9), 1), ((5, 18), 0), ((), 0), ((8, 14, 16), 1), ((11, 16, 17), 1), ((5,), 1)]\n",
      "Instance 3\n"
     ]
    },
    {
     "name": "stderr",
     "output_type": "stream",
     "text": [
      "100%|██████████| 1/1 [00:00<00:00, 484.27it/s]\n"
     ]
    },
    {
     "name": "stdout",
     "output_type": "stream",
     "text": [
      "[((18,), 0), ((0, 7, 8, 10, 18), 0), ((12, 15, 17), 0), ((6, 8, 9, 13), 0), ((7,), 0), ((3, 5, 6, 10, 19), 0), ((0, 7, 8, 10, 18), 0), ((7, 17), 0)]\n",
      "[((18,), 0), ((0, 7, 8, 10, 18), 0), ((12, 15, 17), 0), ((6, 8, 9, 13), 0), ((7,), 0), ((3, 5, 6, 10, 19), 0), ((0, 7, 8, 10, 18), 0), ((7, 17), 0)]\n",
      "Instance 4\n"
     ]
    },
    {
     "name": "stderr",
     "output_type": "stream",
     "text": [
      "100%|██████████| 1/1 [00:00<00:00, 502.01it/s]\n"
     ]
    },
    {
     "name": "stdout",
     "output_type": "stream",
     "text": [
      "[((7,), 1), ((6, 9, 13, 18), 1), ((5, 6, 8), 0), ((2, 10, 12, 16), 1), ((), 1), ((1, 2, 8, 14, 18), 0), ((6, 9, 13, 18), 1), ((0, 6, 8), 0)]\n",
      "[((7,), 1), ((6, 9, 13, 18), 1), ((5, 6, 8), 0), ((2, 10, 12, 16), 1), ((), 1), ((1, 2, 8, 14, 18), 0), ((6, 9, 13, 18), 1), ((0, 6, 8), 0)]\n",
      "Instance 5\n"
     ]
    },
    {
     "name": "stderr",
     "output_type": "stream",
     "text": [
      "100%|██████████| 1/1 [00:00<00:00, 496.07it/s]\n"
     ]
    },
    {
     "name": "stdout",
     "output_type": "stream",
     "text": [
      "[((), 1), ((0, 5, 11, 13), 0), ((0, 6, 13), 1), ((6, 10, 17, 18), 0), ((), 0), ((2, 4, 8, 9, 10), 0), ((0, 5, 11, 13), 0), ((7, 15), 1)]\n",
      "[((), 1), ((0, 5, 11, 13), 0), ((0, 6, 13), 1), ((6, 10, 17, 18), 0), ((), 0), ((2, 4, 8, 9, 10), 0), ((0, 5, 11, 13), 0), ((7, 15), 1)]\n"
     ]
    },
    {
     "data": {
      "image/png": "[encoded data removed]",
      "text/plain": [
       "<Figure size 1000x600 with 1 Axes>"
      ]
     },
     "metadata": {},
     "output_type": "display_data"
    },
    {
     "data": {
      "text/plain": [
       "{'avg_cost_our_policy_over_instances': 214.964,\n",
       " 'avg_cost_aa_over_instances': 214.964,\n",
       " 'expected_cost_our_policy_per_instance': [223.41,\n",
       "  161.99,\n",
       "  307.77,\n",
       "  147.65,\n",
       "  234.0],\n",
       " 'expected_cost_aa_per_instance': [223.41, 161.99, 307.77, 147.65, 234.0],\n",
       " 'expected_cost_difference_per_instance': [0.0, 0.0, 0.0, 0.0, 0.0],\n",
       " 'percent_better': 0.0,\n",
       " 'percent_equal': 100.0,\n",
       " 'percent_worse': 0.0}"
      ]
     },
     "execution_count": 12,
     "metadata": {},
     "output_type": "execute_result"
    }
   ],
   "source": [
    "evaluate_policies(conservative_prob=0.01, T=8, num_instances=5, num_order_sequences=1, plot=True, modified=True)"
   ]
  },
  {
   "cell_type": "code",
   "execution_count": 11,
   "metadata": {},
   "outputs": [
    {
     "name": "stdout",
     "output_type": "stream",
     "text": [
      "Instance 1\n"
     ]
    },
    {
     "name": "stderr",
     "output_type": "stream",
     "text": [
      "100%|██████████| 50/50 [00:24<00:00,  2.08it/s]\n"
     ]
    },
    {
     "name": "stdout",
     "output_type": "stream",
     "text": [
      "Instance 2\n",
      "expected number of broken wands larger than the available ones\n",
      "expected number of broken wands larger than the available ones\n",
      "expected number of broken wands larger than the available ones\n",
      "expected number of broken wands larger than the available ones\n",
      "expected number of broken wands larger than the available ones\n",
      "expected number of broken wands larger than the available ones\n",
      "expected number of broken wands larger than the available ones\n"
     ]
    },
    {
     "name": "stderr",
     "output_type": "stream",
     "text": [
      "100%|██████████| 50/50 [00:23<00:00,  2.16it/s]\n"
     ]
    },
    {
     "name": "stdout",
     "output_type": "stream",
     "text": [
      "Instance 3\n"
     ]
    },
    {
     "name": "stderr",
     "output_type": "stream",
     "text": [
      "100%|██████████| 50/50 [00:27<00:00,  1.85it/s]\n"
     ]
    },
    {
     "name": "stdout",
     "output_type": "stream",
     "text": [
      "Instance 4\n"
     ]
    },
    {
     "name": "stderr",
     "output_type": "stream",
     "text": [
      "100%|██████████| 50/50 [00:26<00:00,  1.89it/s]\n"
     ]
    },
    {
     "name": "stdout",
     "output_type": "stream",
     "text": [
      "Instance 5\n"
     ]
    },
    {
     "name": "stderr",
     "output_type": "stream",
     "text": [
      "100%|██████████| 50/50 [00:25<00:00,  1.95it/s]\n"
     ]
    },
    {
     "name": "stdout",
     "output_type": "stream",
     "text": [
      "Instance 6\n"
     ]
    },
    {
     "name": "stderr",
     "output_type": "stream",
     "text": [
      "100%|██████████| 50/50 [00:25<00:00,  1.95it/s]\n"
     ]
    },
    {
     "name": "stdout",
     "output_type": "stream",
     "text": [
      "Instance 7\n"
     ]
    },
    {
     "name": "stderr",
     "output_type": "stream",
     "text": [
      "100%|██████████| 50/50 [00:23<00:00,  2.13it/s]\n"
     ]
    },
    {
     "name": "stdout",
     "output_type": "stream",
     "text": [
      "Instance 8\n"
     ]
    },
    {
     "name": "stderr",
     "output_type": "stream",
     "text": [
      "100%|██████████| 50/50 [00:23<00:00,  2.12it/s]\n"
     ]
    },
    {
     "name": "stdout",
     "output_type": "stream",
     "text": [
      "Instance 9\n"
     ]
    },
    {
     "name": "stderr",
     "output_type": "stream",
     "text": [
      "100%|██████████| 50/50 [00:23<00:00,  2.16it/s]\n"
     ]
    },
    {
     "name": "stdout",
     "output_type": "stream",
     "text": [
      "Instance 10\n",
      "expected number of broken wands larger than the available ones\n",
      "expected number of broken wands larger than the available ones\n",
      "expected number of broken wands larger than the available ones\n"
     ]
    },
    {
     "name": "stderr",
     "output_type": "stream",
     "text": [
      "100%|██████████| 50/50 [00:22<00:00,  2.19it/s]\n"
     ]
    },
    {
     "name": "stdout",
     "output_type": "stream",
     "text": [
      "Instance 11\n",
      "expected number of broken wands larger than the available ones\n",
      "expected number of broken wands larger than the available ones\n",
      "expected number of broken wands larger than the available ones\n",
      "expected number of broken wands larger than the available ones\n",
      "expected number of broken wands larger than the available ones\n"
     ]
    },
    {
     "name": "stderr",
     "output_type": "stream",
     "text": [
      "100%|██████████| 50/50 [00:26<00:00,  1.92it/s]\n"
     ]
    },
    {
     "name": "stdout",
     "output_type": "stream",
     "text": [
      "Instance 12\n"
     ]
    },
    {
     "name": "stderr",
     "output_type": "stream",
     "text": [
      "100%|██████████| 50/50 [00:25<00:00,  2.00it/s]\n"
     ]
    },
    {
     "name": "stdout",
     "output_type": "stream",
     "text": [
      "Instance 13\n"
     ]
    },
    {
     "name": "stderr",
     "output_type": "stream",
     "text": [
      "100%|██████████| 50/50 [00:28<00:00,  1.73it/s]\n"
     ]
    },
    {
     "name": "stdout",
     "output_type": "stream",
     "text": [
      "Instance 14\n"
     ]
    },
    {
     "name": "stderr",
     "output_type": "stream",
     "text": [
      "100%|██████████| 50/50 [00:25<00:00,  1.98it/s]\n"
     ]
    },
    {
     "name": "stdout",
     "output_type": "stream",
     "text": [
      "Instance 15\n"
     ]
    },
    {
     "name": "stderr",
     "output_type": "stream",
     "text": [
      "100%|██████████| 50/50 [00:24<00:00,  2.05it/s]\n"
     ]
    },
    {
     "name": "stdout",
     "output_type": "stream",
     "text": [
      "Instance 16\n",
      "expected number of broken wands larger than the available ones\n",
      "expected number of broken wands larger than the available ones\n",
      "expected number of broken wands larger than the available ones\n",
      "expected number of broken wands larger than the available ones\n",
      "expected number of broken wands larger than the available ones\n",
      "expected number of broken wands larger than the available ones\n",
      "expected number of broken wands larger than the available ones\n",
      "expected number of broken wands larger than the available ones\n",
      "expected number of broken wands larger than the available ones\n"
     ]
    },
    {
     "name": "stderr",
     "output_type": "stream",
     "text": [
      "100%|██████████| 50/50 [00:24<00:00,  2.05it/s]\n"
     ]
    },
    {
     "name": "stdout",
     "output_type": "stream",
     "text": [
      "Instance 17\n",
      "expected number of broken wands larger than the available ones\n",
      "expected number of broken wands larger than the available ones\n",
      "expected number of broken wands larger than the available ones\n",
      "expected number of broken wands larger than the available ones\n",
      "expected number of broken wands larger than the available ones\n",
      "expected number of broken wands larger than the available ones\n",
      "expected number of broken wands larger than the available ones\n",
      "expected number of broken wands larger than the available ones\n",
      "expected number of broken wands larger than the available ones\n"
     ]
    },
    {
     "name": "stderr",
     "output_type": "stream",
     "text": [
      "100%|██████████| 50/50 [00:25<00:00,  1.99it/s]\n"
     ]
    },
    {
     "name": "stdout",
     "output_type": "stream",
     "text": [
      "Instance 18\n"
     ]
    },
    {
     "name": "stderr",
     "output_type": "stream",
     "text": [
      "100%|██████████| 50/50 [00:24<00:00,  2.00it/s]\n"
     ]
    },
    {
     "name": "stdout",
     "output_type": "stream",
     "text": [
      "Instance 19\n",
      "expected number of broken wands larger than the available ones\n",
      "expected number of broken wands larger than the available ones\n",
      "expected number of broken wands larger than the available ones\n",
      "expected number of broken wands larger than the available ones\n",
      "expected number of broken wands larger than the available ones\n",
      "expected number of broken wands larger than the available ones\n",
      "expected number of broken wands larger than the available ones\n"
     ]
    },
    {
     "name": "stderr",
     "output_type": "stream",
     "text": [
      "100%|██████████| 50/50 [00:23<00:00,  2.12it/s]\n"
     ]
    },
    {
     "name": "stdout",
     "output_type": "stream",
     "text": [
      "Instance 20\n"
     ]
    },
    {
     "name": "stderr",
     "output_type": "stream",
     "text": [
      "100%|██████████| 50/50 [00:25<00:00,  1.95it/s]\n"
     ]
    },
    {
     "name": "stdout",
     "output_type": "stream",
     "text": [
      "Instance 21\n",
      "expected number of broken wands larger than the available ones\n",
      "expected number of broken wands larger than the available ones\n",
      "expected number of broken wands larger than the available ones\n",
      "expected number of broken wands larger than the available ones\n",
      "expected number of broken wands larger than the available ones\n",
      "expected number of broken wands larger than the available ones\n",
      "expected number of broken wands larger than the available ones\n",
      "expected number of broken wands larger than the available ones\n"
     ]
    },
    {
     "name": "stderr",
     "output_type": "stream",
     "text": [
      "100%|██████████| 50/50 [00:25<00:00,  1.99it/s]\n"
     ]
    },
    {
     "name": "stdout",
     "output_type": "stream",
     "text": [
      "Instance 22\n"
     ]
    },
    {
     "name": "stderr",
     "output_type": "stream",
     "text": [
      "100%|██████████| 50/50 [00:24<00:00,  2.03it/s]\n"
     ]
    },
    {
     "name": "stdout",
     "output_type": "stream",
     "text": [
      "Instance 23\n",
      "expected number of broken wands larger than the available ones\n",
      "expected number of broken wands larger than the available ones\n",
      "expected number of broken wands larger than the available ones\n",
      "expected number of broken wands larger than the available ones\n",
      "expected number of broken wands larger than the available ones\n",
      "expected number of broken wands larger than the available ones\n",
      "expected number of broken wands larger than the available ones\n",
      "expected number of broken wands larger than the available ones\n",
      "expected number of broken wands larger than the available ones\n",
      "expected number of broken wands larger than the available ones\n",
      "expected number of broken wands larger than the available ones\n"
     ]
    },
    {
     "name": "stderr",
     "output_type": "stream",
     "text": [
      "100%|██████████| 50/50 [00:24<00:00,  2.02it/s]\n"
     ]
    },
    {
     "name": "stdout",
     "output_type": "stream",
     "text": [
      "Instance 24\n",
      "expected number of broken wands larger than the available ones\n",
      "expected number of broken wands larger than the available ones\n",
      "expected number of broken wands larger than the available ones\n",
      "expected number of broken wands larger than the available ones\n",
      "expected number of broken wands larger than the available ones\n",
      "expected number of broken wands larger than the available ones\n",
      "expected number of broken wands larger than the available ones\n",
      "expected number of broken wands larger than the available ones\n",
      "expected number of broken wands larger than the available ones\n",
      "expected number of broken wands larger than the available ones\n",
      "expected number of broken wands larger than the available ones\n"
     ]
    },
    {
     "name": "stderr",
     "output_type": "stream",
     "text": [
      "100%|██████████| 50/50 [00:23<00:00,  2.14it/s]\n"
     ]
    },
    {
     "name": "stdout",
     "output_type": "stream",
     "text": [
      "Instance 25\n",
      "expected number of broken wands larger than the available ones\n",
      "expected number of broken wands larger than the available ones\n",
      "expected number of broken wands larger than the available ones\n",
      "expected number of broken wands larger than the available ones\n",
      "expected number of broken wands larger than the available ones\n",
      "expected number of broken wands larger than the available ones\n",
      "expected number of broken wands larger than the available ones\n",
      "expected number of broken wands larger than the available ones\n"
     ]
    },
    {
     "name": "stderr",
     "output_type": "stream",
     "text": [
      "100%|██████████| 50/50 [00:22<00:00,  2.19it/s]\n"
     ]
    },
    {
     "name": "stdout",
     "output_type": "stream",
     "text": [
      "Instance 26\n",
      "expected number of broken wands larger than the available ones\n",
      "expected number of broken wands larger than the available ones\n",
      "expected number of broken wands larger than the available ones\n",
      "expected number of broken wands larger than the available ones\n",
      "expected number of broken wands larger than the available ones\n",
      "expected number of broken wands larger than the available ones\n",
      "expected number of broken wands larger than the available ones\n",
      "expected number of broken wands larger than the available ones\n",
      "expected number of broken wands larger than the available ones\n"
     ]
    },
    {
     "name": "stderr",
     "output_type": "stream",
     "text": [
      "100%|██████████| 50/50 [00:24<00:00,  2.07it/s]\n"
     ]
    },
    {
     "name": "stdout",
     "output_type": "stream",
     "text": [
      "Instance 27\n"
     ]
    },
    {
     "name": "stderr",
     "output_type": "stream",
     "text": [
      "100%|██████████| 50/50 [00:24<00:00,  2.07it/s]\n"
     ]
    },
    {
     "name": "stdout",
     "output_type": "stream",
     "text": [
      "Instance 28\n"
     ]
    },
    {
     "name": "stderr",
     "output_type": "stream",
     "text": [
      "100%|██████████| 50/50 [00:26<00:00,  1.88it/s]\n"
     ]
    },
    {
     "name": "stdout",
     "output_type": "stream",
     "text": [
      "Instance 29\n",
      "expected number of broken wands larger than the available ones\n",
      "expected number of broken wands larger than the available ones\n",
      "expected number of broken wands larger than the available ones\n",
      "expected number of broken wands larger than the available ones\n",
      "expected number of broken wands larger than the available ones\n"
     ]
    },
    {
     "name": "stderr",
     "output_type": "stream",
     "text": [
      "100%|██████████| 50/50 [00:26<00:00,  1.86it/s]\n"
     ]
    },
    {
     "name": "stdout",
     "output_type": "stream",
     "text": [
      "Instance 30\n",
      "expected number of broken wands larger than the available ones\n",
      "expected number of broken wands larger than the available ones\n",
      "expected number of broken wands larger than the available ones\n",
      "expected number of broken wands larger than the available ones\n",
      "expected number of broken wands larger than the available ones\n",
      "expected number of broken wands larger than the available ones\n",
      "expected number of broken wands larger than the available ones\n",
      "expected number of broken wands larger than the available ones\n"
     ]
    },
    {
     "name": "stderr",
     "output_type": "stream",
     "text": [
      "100%|██████████| 50/50 [00:25<00:00,  1.94it/s]\n"
     ]
    },
    {
     "name": "stdout",
     "output_type": "stream",
     "text": [
      "Instance 31\n",
      "expected number of broken wands larger than the available ones\n",
      "expected number of broken wands larger than the available ones\n",
      "expected number of broken wands larger than the available ones\n",
      "expected number of broken wands larger than the available ones\n",
      "expected number of broken wands larger than the available ones\n",
      "expected number of broken wands larger than the available ones\n"
     ]
    },
    {
     "name": "stderr",
     "output_type": "stream",
     "text": [
      "100%|██████████| 50/50 [00:24<00:00,  2.05it/s]\n"
     ]
    },
    {
     "name": "stdout",
     "output_type": "stream",
     "text": [
      "Instance 32\n"
     ]
    },
    {
     "name": "stderr",
     "output_type": "stream",
     "text": [
      "100%|██████████| 50/50 [00:27<00:00,  1.82it/s]\n"
     ]
    },
    {
     "name": "stdout",
     "output_type": "stream",
     "text": [
      "Instance 33\n"
     ]
    },
    {
     "name": "stderr",
     "output_type": "stream",
     "text": [
      "100%|██████████| 50/50 [00:27<00:00,  1.80it/s]\n"
     ]
    },
    {
     "name": "stdout",
     "output_type": "stream",
     "text": [
      "Instance 34\n"
     ]
    },
    {
     "name": "stderr",
     "output_type": "stream",
     "text": [
      "100%|██████████| 50/50 [00:25<00:00,  1.95it/s]\n"
     ]
    },
    {
     "name": "stdout",
     "output_type": "stream",
     "text": [
      "Instance 35\n",
      "expected number of broken wands larger than the available ones\n",
      "expected number of broken wands larger than the available ones\n",
      "expected number of broken wands larger than the available ones\n",
      "expected number of broken wands larger than the available ones\n",
      "expected number of broken wands larger than the available ones\n",
      "expected number of broken wands larger than the available ones\n",
      "expected number of broken wands larger than the available ones\n",
      "expected number of broken wands larger than the available ones\n"
     ]
    },
    {
     "name": "stderr",
     "output_type": "stream",
     "text": [
      "100%|██████████| 50/50 [00:24<00:00,  2.03it/s]\n"
     ]
    },
    {
     "name": "stdout",
     "output_type": "stream",
     "text": [
      "Instance 36\n"
     ]
    },
    {
     "name": "stderr",
     "output_type": "stream",
     "text": [
      "100%|██████████| 50/50 [00:28<00:00,  1.76it/s]\n"
     ]
    },
    {
     "name": "stdout",
     "output_type": "stream",
     "text": [
      "Instance 37\n",
      "expected number of broken wands larger than the available ones\n",
      "expected number of broken wands larger than the available ones\n",
      "expected number of broken wands larger than the available ones\n",
      "expected number of broken wands larger than the available ones\n",
      "expected number of broken wands larger than the available ones\n",
      "expected number of broken wands larger than the available ones\n",
      "expected number of broken wands larger than the available ones\n",
      "expected number of broken wands larger than the available ones\n"
     ]
    },
    {
     "name": "stderr",
     "output_type": "stream",
     "text": [
      "100%|██████████| 50/50 [00:25<00:00,  1.97it/s]\n"
     ]
    },
    {
     "name": "stdout",
     "output_type": "stream",
     "text": [
      "Instance 38\n",
      "expected number of broken wands larger than the available ones\n",
      "expected number of broken wands larger than the available ones\n",
      "expected number of broken wands larger than the available ones\n",
      "expected number of broken wands larger than the available ones\n",
      "expected number of broken wands larger than the available ones\n",
      "expected number of broken wands larger than the available ones\n",
      "expected number of broken wands larger than the available ones\n",
      "expected number of broken wands larger than the available ones\n"
     ]
    },
    {
     "name": "stderr",
     "output_type": "stream",
     "text": [
      "100%|██████████| 50/50 [00:23<00:00,  2.14it/s]\n"
     ]
    },
    {
     "name": "stdout",
     "output_type": "stream",
     "text": [
      "Instance 39\n",
      "expected number of broken wands larger than the available ones\n",
      "expected number of broken wands larger than the available ones\n",
      "expected number of broken wands larger than the available ones\n",
      "expected number of broken wands larger than the available ones\n",
      "expected number of broken wands larger than the available ones\n",
      "expected number of broken wands larger than the available ones\n",
      "expected number of broken wands larger than the available ones\n",
      "expected number of broken wands larger than the available ones\n",
      "expected number of broken wands larger than the available ones\n",
      "expected number of broken wands larger than the available ones\n"
     ]
    },
    {
     "name": "stderr",
     "output_type": "stream",
     "text": [
      "100%|██████████| 50/50 [00:24<00:00,  2.01it/s]\n"
     ]
    },
    {
     "name": "stdout",
     "output_type": "stream",
     "text": [
      "Instance 40\n"
     ]
    },
    {
     "name": "stderr",
     "output_type": "stream",
     "text": [
      "100%|██████████| 50/50 [00:22<00:00,  2.20it/s]\n"
     ]
    },
    {
     "name": "stdout",
     "output_type": "stream",
     "text": [
      "Instance 41\n",
      "expected number of broken wands larger than the available ones\n",
      "expected number of broken wands larger than the available ones\n",
      "expected number of broken wands larger than the available ones\n",
      "expected number of broken wands larger than the available ones\n",
      "expected number of broken wands larger than the available ones\n",
      "expected number of broken wands larger than the available ones\n",
      "expected number of broken wands larger than the available ones\n"
     ]
    },
    {
     "name": "stderr",
     "output_type": "stream",
     "text": [
      "100%|██████████| 50/50 [00:28<00:00,  1.75it/s]\n"
     ]
    },
    {
     "name": "stdout",
     "output_type": "stream",
     "text": [
      "Instance 42\n",
      "expected number of broken wands larger than the available ones\n",
      "expected number of broken wands larger than the available ones\n",
      "expected number of broken wands larger than the available ones\n",
      "expected number of broken wands larger than the available ones\n",
      "expected number of broken wands larger than the available ones\n"
     ]
    },
    {
     "name": "stderr",
     "output_type": "stream",
     "text": [
      "100%|██████████| 50/50 [00:24<00:00,  2.08it/s]\n"
     ]
    },
    {
     "name": "stdout",
     "output_type": "stream",
     "text": [
      "Instance 43\n"
     ]
    },
    {
     "name": "stderr",
     "output_type": "stream",
     "text": [
      "100%|██████████| 50/50 [00:27<00:00,  1.80it/s]\n"
     ]
    },
    {
     "name": "stdout",
     "output_type": "stream",
     "text": [
      "Instance 44\n"
     ]
    },
    {
     "name": "stderr",
     "output_type": "stream",
     "text": [
      "100%|██████████| 50/50 [00:24<00:00,  2.00it/s]\n"
     ]
    },
    {
     "name": "stdout",
     "output_type": "stream",
     "text": [
      "Instance 45\n",
      "expected number of broken wands larger than the available ones\n",
      "expected number of broken wands larger than the available ones\n",
      "expected number of broken wands larger than the available ones\n",
      "expected number of broken wands larger than the available ones\n",
      "expected number of broken wands larger than the available ones\n",
      "expected number of broken wands larger than the available ones\n",
      "expected number of broken wands larger than the available ones\n"
     ]
    },
    {
     "name": "stderr",
     "output_type": "stream",
     "text": [
      "100%|██████████| 50/50 [00:25<00:00,  1.99it/s]\n"
     ]
    },
    {
     "name": "stdout",
     "output_type": "stream",
     "text": [
      "Instance 46\n",
      "expected number of broken wands larger than the available ones\n",
      "expected number of broken wands larger than the available ones\n",
      "expected number of broken wands larger than the available ones\n",
      "expected number of broken wands larger than the available ones\n",
      "expected number of broken wands larger than the available ones\n",
      "expected number of broken wands larger than the available ones\n",
      "expected number of broken wands larger than the available ones\n",
      "expected number of broken wands larger than the available ones\n"
     ]
    },
    {
     "name": "stderr",
     "output_type": "stream",
     "text": [
      "100%|██████████| 50/50 [00:25<00:00,  1.94it/s]\n"
     ]
    },
    {
     "name": "stdout",
     "output_type": "stream",
     "text": [
      "Instance 47\n"
     ]
    },
    {
     "name": "stderr",
     "output_type": "stream",
     "text": [
      "100%|██████████| 50/50 [00:26<00:00,  1.85it/s]\n"
     ]
    },
    {
     "name": "stdout",
     "output_type": "stream",
     "text": [
      "Instance 48\n",
      "expected number of broken wands larger than the available ones\n",
      "expected number of broken wands larger than the available ones\n",
      "expected number of broken wands larger than the available ones\n",
      "expected number of broken wands larger than the available ones\n",
      "expected number of broken wands larger than the available ones\n"
     ]
    },
    {
     "name": "stderr",
     "output_type": "stream",
     "text": [
      "100%|██████████| 50/50 [00:25<00:00,  1.93it/s]\n"
     ]
    },
    {
     "name": "stdout",
     "output_type": "stream",
     "text": [
      "Instance 49\n",
      "expected number of broken wands larger than the available ones\n",
      "expected number of broken wands larger than the available ones\n",
      "expected number of broken wands larger than the available ones\n",
      "expected number of broken wands larger than the available ones\n",
      "expected number of broken wands larger than the available ones\n",
      "expected number of broken wands larger than the available ones\n",
      "expected number of broken wands larger than the available ones\n",
      "expected number of broken wands larger than the available ones\n",
      "expected number of broken wands larger than the available ones\n"
     ]
    },
    {
     "name": "stderr",
     "output_type": "stream",
     "text": [
      "100%|██████████| 50/50 [00:25<00:00,  1.93it/s]\n"
     ]
    },
    {
     "name": "stdout",
     "output_type": "stream",
     "text": [
      "Instance 50\n",
      "expected number of broken wands larger than the available ones\n",
      "expected number of broken wands larger than the available ones\n",
      "expected number of broken wands larger than the available ones\n",
      "expected number of broken wands larger than the available ones\n",
      "expected number of broken wands larger than the available ones\n",
      "expected number of broken wands larger than the available ones\n",
      "expected number of broken wands larger than the available ones\n"
     ]
    },
    {
     "name": "stderr",
     "output_type": "stream",
     "text": [
      "100%|██████████| 50/50 [00:27<00:00,  1.85it/s]\n"
     ]
    },
    {
     "data": {
      "image/png": "[encoded data removed]",
      "text/plain": [
       "<Figure size 1000x600 with 1 Axes>"
      ]
     },
     "metadata": {},
     "output_type": "display_data"
    },
    {
     "data": {
      "text/plain": [
       "{'avg_cost_our_policy_over_instances': 39922.34100000001,\n",
       " 'avg_cost_aa_over_instances': 39920.1098,\n",
       " 'expected_cost_our_policy_per_instance': [35415.22,\n",
       "  38169.54,\n",
       "  36038.4,\n",
       "  35817.25,\n",
       "  33468.16,\n",
       "  30784.5,\n",
       "  31477.64,\n",
       "  32855.97,\n",
       "  28514.64,\n",
       "  43676.76,\n",
       "  63806.11,\n",
       "  33053.76,\n",
       "  36712.68,\n",
       "  37030.76,\n",
       "  24515.55,\n",
       "  50134.01,\n",
       "  43685.93,\n",
       "  35070.71,\n",
       "  41601.1,\n",
       "  32290.4,\n",
       "  62161.53,\n",
       "  25510.14,\n",
       "  42035.39,\n",
       "  36352.87,\n",
       "  42397.17,\n",
       "  38285.43,\n",
       "  31512.42,\n",
       "  37996.02,\n",
       "  45477.27,\n",
       "  47346.8,\n",
       "  65761.74,\n",
       "  37027.01,\n",
       "  33888.21,\n",
       "  31066.52,\n",
       "  47324.58,\n",
       "  37369.49,\n",
       "  44827.06,\n",
       "  40435.01,\n",
       "  42610.8,\n",
       "  30276.91,\n",
       "  47384.4,\n",
       "  47548.83,\n",
       "  38971.45,\n",
       "  33113.0,\n",
       "  47506.25,\n",
       "  42138.05,\n",
       "  34635.7,\n",
       "  50970.44,\n",
       "  45919.76,\n",
       "  44147.71],\n",
       " 'expected_cost_aa_per_instance': [35415.22,\n",
       "  38169.57,\n",
       "  36040.89,\n",
       "  35811.27,\n",
       "  33468.16,\n",
       "  30784.5,\n",
       "  31477.64,\n",
       "  32855.97,\n",
       "  28514.64,\n",
       "  43676.76,\n",
       "  63740.22,\n",
       "  33057.65,\n",
       "  36712.68,\n",
       "  37028.76,\n",
       "  24515.55,\n",
       "  50131.45,\n",
       "  43690.63,\n",
       "  35070.71,\n",
       "  41601.1,\n",
       "  32286.25,\n",
       "  62157.69,\n",
       "  25510.14,\n",
       "  42028.15,\n",
       "  36352.23,\n",
       "  42397.17,\n",
       "  38285.43,\n",
       "  31512.42,\n",
       "  37994.4,\n",
       "  45477.27,\n",
       "  47356.54,\n",
       "  65760.12,\n",
       "  37027.01,\n",
       "  33886.41,\n",
       "  31066.52,\n",
       "  47326.83,\n",
       "  37369.49,\n",
       "  44825.66,\n",
       "  40435.75,\n",
       "  42603.93,\n",
       "  30276.91,\n",
       "  47382.95,\n",
       "  47548.19,\n",
       "  38971.45,\n",
       "  33113.0,\n",
       "  47491.48,\n",
       "  42138.05,\n",
       "  34635.29,\n",
       "  50968.64,\n",
       "  45914.0,\n",
       "  44142.75],\n",
       " 'expected_cost_difference_per_instance': [0.0,\n",
       "  -0.029999999998835847,\n",
       "  -2.4899999999979627,\n",
       "  5.980000000003201,\n",
       "  0.0,\n",
       "  0.0,\n",
       "  0.0,\n",
       "  0.0,\n",
       "  0.0,\n",
       "  0.0,\n",
       "  65.88999999999942,\n",
       "  -3.889999999999418,\n",
       "  0.0,\n",
       "  2.0,\n",
       "  0.0,\n",
       "  2.5600000000049477,\n",
       "  -4.69999999999709,\n",
       "  0.0,\n",
       "  0.0,\n",
       "  4.150000000001455,\n",
       "  3.8399999999965075,\n",
       "  0.0,\n",
       "  7.239999999997963,\n",
       "  0.6399999999994179,\n",
       "  0.0,\n",
       "  0.0,\n",
       "  0.0,\n",
       "  1.6199999999953434,\n",
       "  0.0,\n",
       "  -9.739999999997963,\n",
       "  1.6200000000098953,\n",
       "  0.0,\n",
       "  1.7999999999956344,\n",
       "  0.0,\n",
       "  -2.25,\n",
       "  0.0,\n",
       "  1.3999999999941792,\n",
       "  -0.7399999999979627,\n",
       "  6.870000000002619,\n",
       "  0.0,\n",
       "  1.4500000000043656,\n",
       "  0.6399999999994179,\n",
       "  0.0,\n",
       "  0.0,\n",
       "  14.769999999996799,\n",
       "  0.0,\n",
       "  0.4099999999962165,\n",
       "  1.8000000000029104,\n",
       "  5.760000000002037,\n",
       "  4.959999999999127],\n",
       " 'percent_better': 14.000000000000002,\n",
       " 'percent_equal': 46.0,\n",
       " 'percent_worse': 40.0}"
      ]
     },
     "execution_count": 11,
     "metadata": {},
     "output_type": "execute_result"
    }
   ],
   "source": [
    "evaluate_policies(conservative_prob=0.0001, T=3000, num_instances=50, num_order_sequences=50, plot=True, modified=False)"
   ]
  },
  {
   "cell_type": "code",
   "execution_count": null,
   "metadata": {},
   "outputs": [],
   "source": [
    "def find_best_conservative_prob(start=0.01, stop=1.0, step=0.01, **kwargs):\n",
    "    best_prob = start\n",
    "    results = evaluate_policies(conservative_prob=start, **kwargs)\n",
    "    best_times_our_policy_better_or_equal = results['percent_better'] + results['percent_equal']\n",
    "    best_average_cost_diff = results[\"avg_cost_our_policy_over_instances\"] - results[\"avg_cost_aa_over_instances\"]\n",
    "\n",
    "    for prob in np.arange(start + step, stop + step, step):\n",
    "        results = evaluate_policies(conservative_prob=prob, **kwargs)\n",
    "        current_times_our_policy_better_or_equal = results['percent_better'] + results['percent_equal']\n",
    "        current_average_cost_diff = results[\"avg_cost_our_policy_over_instances\"] - results[\"avg_cost_aa_over_instances\"]\n",
    "        \n",
    "        # Update the best_prob if the current probability results in our policy being at least as often better or equal than before\n",
    "        # and if the average cost of our policy is greater than the average cost of the always_accept_policy\n",
    "        if current_times_our_policy_better_or_equal >= best_times_our_policy_better_or_equal and current_average_cost_diff > best_average_cost_diff and prob > best_prob:\n",
    "            best_prob = prob\n",
    "            best_times_our_policy_better_or_equal = current_times_our_policy_better_or_equal\n",
    "            best_average_cost_diff = current_average_cost_diff\n",
    "            \n",
    "    return best_prob\n",
    "\n",
    "\n",
    "best_prob = find_best_conservative_prob()\n",
    "print(f\"The 'best' conservative_prob based on the new criteria is: {best_prob}\")\n"
   ]
  },
  {
   "cell_type": "code",
   "execution_count": null,
   "metadata": {},
   "outputs": [],
   "source": [
    "evaluate_policies(conservative_prob=best_prob, T=10**1, num_instances=50, num_order_sequences=50, plot=True, modified=True)"
   ]
  }
 ],
 "metadata": {
  "kernelspec": {
   "display_name": "Python 3",
   "language": "python",
   "name": "python3"
  },
  "language_info": {
   "codemirror_mode": {
    "name": "ipython",
    "version": 3
   },
   "file_extension": ".py",
   "mimetype": "text/x-python",
   "name": "python",
   "nbconvert_exporter": "python",
   "pygments_lexer": "ipython3",
   "version": "3.9.5"
  },
  "orig_nbformat": 4,
  "vscode": {
   "interpreter": {
    "hash": "2ac85b258e6f1aacd8a339ff9c1932e82085d063424191d145bf0976e434bf30"
   }
  }
 },
 "nbformat": 4,
 "nbformat_minor": 2
}
