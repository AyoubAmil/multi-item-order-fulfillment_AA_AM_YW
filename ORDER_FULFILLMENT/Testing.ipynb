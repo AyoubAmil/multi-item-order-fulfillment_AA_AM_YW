{
 "cells": [
  {
   "cell_type": "code",
   "execution_count": 1,
   "metadata": {},
   "outputs": [],
   "source": [
    "import matplotlib.pyplot as plt\n",
    "import numpy as np\n",
    "from order_fulfillment_environment import OrderFulfillment\n",
    "from LP_fulfillment import SolvingLP\n",
    "from magician_problem import MagicianProblem\n",
    "from fulfillment_policy import FulfillmentPolicy\n",
    "from tqdm import tqdm"
   ]
  },
  {
   "cell_type": "code",
   "execution_count": 2,
   "metadata": {},
   "outputs": [
    {
     "name": "stdout",
     "output_type": "stream",
     "text": [
      "Set parameter Username\n",
      "Academic license - for non-commercial use only - expires 2024-09-12\n"
     ]
    }
   ],
   "source": [
    "fulfillment_instance = OrderFulfillment(num_items=5, n_max=5, n_0=5,\n",
    "                                        p_stock=1, T=10**1, CSL=0.5,\n",
    "                                        facilities_data=\"Data/fulfillment_centers_warmup_test.csv\", cities_data=\"Data/cities_warmup_test.csv\", prob_seed_value=1, order_seed_value=1, inv_seed_value=1)\n",
    "\n",
    "fulfillment_policy = FulfillmentPolicy(num_items=5, n_max=5, n_0=5,\n",
    "                                        p_stock=1, T=10**1, CSL=0.5,\n",
    "                                        facilities_data=\"Data/fulfillment_centers_warmup_test.csv\", cities_data=\"Data/cities_warmup_test.csv\", prob_seed_value=1, order_seed_value=1, inv_seed_value=1)\n",
    "\n",
    "# I am using num_items sufficiently large so that when I create order types, I do not have repetitions of the same composition of items"
   ]
  },
  {
   "cell_type": "code",
   "execution_count": 4,
   "metadata": {},
   "outputs": [],
   "source": [
    "cdfs = fulfillment_policy.solve_cdfs_magician_problems(conservative_prob=0.5)"
   ]
  },
  {
   "cell_type": "code",
   "execution_count": 9,
   "metadata": {},
   "outputs": [
    {
     "data": {
      "text/plain": [
       "{(0,\n",
       "  0): {'breaking_wand_probabilities': [0.21170400924700497,\n",
       "   0.21170400924700497,\n",
       "   0.21170400924700497,\n",
       "   0.21170400924700497,\n",
       "   0.21170400924700497,\n",
       "   0.21170400924700497,\n",
       "   0.21170400924700497,\n",
       "   0.21170400924700497,\n",
       "   0.21170400924700497,\n",
       "   0.21170400924700497], 'gamma': 0.7958758547680684, 'theta': [0,\n",
       "   0,\n",
       "   1,\n",
       "   1,\n",
       "   1,\n",
       "   1,\n",
       "   2,\n",
       "   2,\n",
       "   2,\n",
       "   2], 'open_list': [[1, 0],\n",
       "   [1, 0, 0],\n",
       "   [1, 1, 0, 0],\n",
       "   [1, 0, 0, 0, 0],\n",
       "   [1, 0, 0, 0, 0, 0],\n",
       "   [1, 1, 0, 0, 0, 0, 0],\n",
       "   [1, 1, 1, 0, 0, 0, 0, 0],\n",
       "   [1, 1, 0, 0, 0, 0, 0, 0, 0],\n",
       "   [1, 1, 0, 0, 0, 0, 0, 0, 0, 0],\n",
       "   [1, 1, 1, 0, 0, 0, 0, 0, 0, 0, 0]], 'prob_rand': [0.7958758547680684,\n",
       "   0.9571453853839466,\n",
       "   0.3942548139501137,\n",
       "   0.6082125351558824,\n",
       "   0.7646405834795769,\n",
       "   0.9273797931626004,\n",
       "   0.2353940751300658,\n",
       "   0.46194327574238525,\n",
       "   0.6201448130552405,\n",
       "   0.766688579647277]},\n",
       " (0,\n",
       "  1): {'breaking_wand_probabilities': [0.3155798245688994,\n",
       "   0.3155798245688994,\n",
       "   0.3155798245688994,\n",
       "   0.3155798245688994,\n",
       "   0.3155798245688994,\n",
       "   0.3155798245688994,\n",
       "   0.3155798245688994,\n",
       "   0.3155798245688994,\n",
       "   0.3155798245688994,\n",
       "   0.3155798245688994], 'gamma': 0.8110177634953863, 'theta': [0,\n",
       "   1,\n",
       "   1,\n",
       "   1,\n",
       "   2,\n",
       "   2,\n",
       "   2,\n",
       "   3,\n",
       "   3,\n",
       "   3], 'open_list': [[1, 0],\n",
       "   [1, 0, 0],\n",
       "   [1, 1, 0, 0],\n",
       "   [1, 1, 0, 0, 0],\n",
       "   [1, 1, 0, 0, 0, 0],\n",
       "   [1, 1, 1, 0, 0, 0, 0],\n",
       "   [1, 1, 1, 0, 0, 0, 0, 0],\n",
       "   [1, 1, 1, 0, 0, 0, 0, 0, 0],\n",
       "   [1, 1, 1, 0, 0, 0, 0, 0, 0, 0],\n",
       "   [1, 1, 1, 0, 0, 0, 0, 0, 0, 0, 0]], 'prob_rand': [0.8110177634953863,\n",
       "   0.2616175132465098,\n",
       "   0.6425803638315025,\n",
       "   0.8642874433551648,\n",
       "   0.27955011729754836,\n",
       "   0.5819368098068997,\n",
       "   0.7958075051167374,\n",
       "   0.10163611649643511,\n",
       "   0.47145613122308716,\n",
       "   0.685687849121302]},\n",
       " (1,\n",
       "  0): {'breaking_wand_probabilities': [0.2020482415165902,\n",
       "   0.2020482415165902,\n",
       "   0.2020482415165902,\n",
       "   0.2020482415165902,\n",
       "   0.2020482415165902,\n",
       "   0.2020482415165902,\n",
       "   0.2020482415165902,\n",
       "   0.2020482415165902,\n",
       "   0.2020482415165902,\n",
       "   0.2020482415165902], 'gamma': 0.7958758547680684, 'theta': [0,\n",
       "   0,\n",
       "   1,\n",
       "   1,\n",
       "   1,\n",
       "   1,\n",
       "   2,\n",
       "   2,\n",
       "   2,\n",
       "   2], 'open_list': [[1, 0],\n",
       "   [1, 0, 0],\n",
       "   [1, 0, 0, 0],\n",
       "   [1, 1, 0, 0, 0],\n",
       "   [1, 0, 0, 0, 0, 0],\n",
       "   [1, 1, 0, 0, 0, 0, 0],\n",
       "   [1, 1, 1, 0, 0, 0, 0, 0],\n",
       "   [1, 1, 0, 0, 0, 0, 0, 0, 0],\n",
       "   [1, 1, 0, 0, 0, 0, 0, 0, 0, 0],\n",
       "   [1, 1, 1, 0, 0, 0, 0, 0, 0, 0, 0]], 'prob_rand': [0.7958758547680684,\n",
       "   0.9483804781131185,\n",
       "   0.3653066044709713,\n",
       "   0.5852619300322728,\n",
       "   0.7383668112750488,\n",
       "   0.8906029955986227,\n",
       "   0.14900542408573672,\n",
       "   0.40451212106059237,\n",
       "   0.567819179974803,\n",
       "   0.7086588364203571]},\n",
       " (1,\n",
       "  1): {'breaking_wand_probabilities': [0.30118630648069417,\n",
       "   0.30118630648069417,\n",
       "   0.30118630648069417,\n",
       "   0.30118630648069417,\n",
       "   0.30118630648069417,\n",
       "   0.30118630648069417,\n",
       "   0.30118630648069417,\n",
       "   0.30118630648069417,\n",
       "   0.30118630648069417,\n",
       "   0.30118630648069417], 'gamma': 0.8110177634953863, 'theta': [0,\n",
       "   1,\n",
       "   1,\n",
       "   1,\n",
       "   2,\n",
       "   2,\n",
       "   2,\n",
       "   2,\n",
       "   3,\n",
       "   3], 'open_list': [[1, 0],\n",
       "   [1, 0, 0],\n",
       "   [1, 1, 0, 0],\n",
       "   [1, 1, 0, 0, 0],\n",
       "   [1, 1, 1, 0, 0, 0],\n",
       "   [1, 1, 0, 0, 0, 0, 0],\n",
       "   [1, 1, 0, 0, 0, 0, 0, 0],\n",
       "   [1, 1, 1, 0, 0, 0, 0, 0, 0],\n",
       "   [1, 1, 1, 0, 0, 0, 0, 0, 0, 0],\n",
       "   [1, 1, 1, 1, 0, 0, 0, 0, 0, 0, 0]], 'prob_rand': [0.8110177634953863,\n",
       "   0.22633064445328457,\n",
       "   0.6214438704421161,\n",
       "   0.8353297700849984,\n",
       "   0.1957188885741417,\n",
       "   0.531558925317994,\n",
       "   0.7404475664583136,\n",
       "   0.9641256824641767,\n",
       "   0.37858325805867515,\n",
       "   0.6065091064551357]},\n",
       " (2,\n",
       "  0): {'breaking_wand_probabilities': [0.167455979169773,\n",
       "   0.167455979169773,\n",
       "   0.167455979169773,\n",
       "   0.167455979169773,\n",
       "   0.167455979169773,\n",
       "   0.167455979169773,\n",
       "   0.167455979169773,\n",
       "   0.167455979169773,\n",
       "   0.167455979169773,\n",
       "   0.167455979169773], 'gamma': 0.7763932022500211, 'theta': [0,\n",
       "   0,\n",
       "   1,\n",
       "   1,\n",
       "   1,\n",
       "   1,\n",
       "   1,\n",
       "   1,\n",
       "   2,\n",
       "   2], 'open_list': [[1, 0],\n",
       "   [1, 0, 0],\n",
       "   [1, 1, 0, 0],\n",
       "   [1, 1, 0, 0, 0],\n",
       "   [1, 0, 0, 0, 0, 0],\n",
       "   [1, 0, 0, 0, 0, 0, 0],\n",
       "   [1, 0, 0, 0, 0, 0, 0, 0],\n",
       "   [1, 1, 0, 0, 0, 0, 0, 0, 0],\n",
       "   [1, 1, 0, 0, 0, 0, 0, 0, 0, 0],\n",
       "   [1, 1, 0, 0, 0, 0, 0, 0, 0, 0, 0]], 'prob_rand': [0.7763932022500211,\n",
       "   0.8924179645694599,\n",
       "   0.14005114372684968,\n",
       "   0.4243347190975403,\n",
       "   0.5801855223830958,\n",
       "   0.7045142833481663,\n",
       "   0.8270236689760505,\n",
       "   0.9647555021556529,\n",
       "   0.2195364800872774,\n",
       "   0.3984157697927389]},\n",
       " (2,\n",
       "  1): {'breaking_wand_probabilities': [0.24962082067965308,\n",
       "   0.24962082067965308,\n",
       "   0.24962082067965308,\n",
       "   0.24962082067965308,\n",
       "   0.24962082067965308,\n",
       "   0.24962082067965308,\n",
       "   0.24962082067965308,\n",
       "   0.24962082067965308,\n",
       "   0.24962082067965308,\n",
       "   0.24962082067965308], 'gamma': 0.7958758547680684, 'theta': [0,\n",
       "   0,\n",
       "   1,\n",
       "   1,\n",
       "   1,\n",
       "   2,\n",
       "   2,\n",
       "   2,\n",
       "   2,\n",
       "   3], 'open_list': [[1, 0],\n",
       "   [1, 0, 0],\n",
       "   [1, 0, 0, 0],\n",
       "   [1, 1, 0, 0, 0],\n",
       "   [1, 1, 0, 0, 0, 0],\n",
       "   [1, 1, 0, 0, 0, 0, 0],\n",
       "   [1, 1, 1, 0, 0, 0, 0, 0],\n",
       "   [1, 1, 1, 0, 0, 0, 0, 0, 0],\n",
       "   [1, 1, 1, 0, 0, 0, 0, 0, 0, 0],\n",
       "   [1, 1, 1, 0, 0, 0, 0, 0, 0, 0, 0]], 'prob_rand': [0.7958758547680684,\n",
       "   0.9931901438493127,\n",
       "   0.4862660729995478,\n",
       "   0.6879250388903871,\n",
       "   0.8668687622267347,\n",
       "   0.17682351745121044,\n",
       "   0.46515354176189605,\n",
       "   0.646865268868729,\n",
       "   0.8187341424581348,\n",
       "   0.0487635010981444]},\n",
       " (3,\n",
       "  0): {'breaking_wand_probabilities': [0.27359214175253044,\n",
       "   0.27359214175253044,\n",
       "   0.27359214175253044,\n",
       "   0.27359214175253044,\n",
       "   0.27359214175253044,\n",
       "   0.27359214175253044,\n",
       "   0.27359214175253044,\n",
       "   0.27359214175253044,\n",
       "   0.27359214175253044,\n",
       "   0.27359214175253044], 'gamma': 0.7958758547680684, 'theta': [0,\n",
       "   1,\n",
       "   1,\n",
       "   1,\n",
       "   1,\n",
       "   2,\n",
       "   2,\n",
       "   2,\n",
       "   2,\n",
       "   3], 'open_list': [[0, 0],\n",
       "   [1, 0, 0],\n",
       "   [1, 1, 0, 0],\n",
       "   [1, 1, 0, 0, 0],\n",
       "   [1, 0, 0, 0, 0, 0],\n",
       "   [1, 1, 0, 0, 0, 0, 0],\n",
       "   [1, 1, 0, 0, 0, 0, 0, 0],\n",
       "   [1, 1, 0, 0, 0, 0, 0, 0, 0],\n",
       "   [1, 1, 1, 0, 0, 0, 0, 0, 0, 0],\n",
       "   [1, 1, 1, 0, 0, 0, 0, 0, 0, 0, 0]], 'prob_rand': [0.7958758547680684,\n",
       "   0.06255579091282258,\n",
       "   0.5318225308421691,\n",
       "   0.735013044260658,\n",
       "   0.9370865225661886,\n",
       "   0.33408778677942286,\n",
       "   0.5690565032193102,\n",
       "   0.7532534959583548,\n",
       "   0.9591952677068852,\n",
       "   0.3303053915380219]},\n",
       " (3,\n",
       "  1): {'breaking_wand_probabilities': [0.40783431737920434,\n",
       "   0.40783431737920434,\n",
       "   0.40783431737920434,\n",
       "   0.40783431737920434,\n",
       "   0.40783431737920434,\n",
       "   0.40783431737920434,\n",
       "   0.40783431737920434,\n",
       "   0.40783431737920434,\n",
       "   0.40783431737920434,\n",
       "   0.40783431737920434], 'gamma': 0.8232233047033631, 'theta': [0,\n",
       "   1,\n",
       "   1,\n",
       "   2,\n",
       "   2,\n",
       "   2,\n",
       "   3,\n",
       "   3,\n",
       "   4,\n",
       "   4], 'open_list': [[1, 0],\n",
       "   [1, 1, 0],\n",
       "   [1, 1, 0, 0],\n",
       "   [1, 1, 0, 0, 0],\n",
       "   [1, 1, 1, 0, 0, 0],\n",
       "   [1, 1, 1, 0, 0, 0, 0],\n",
       "   [1, 1, 1, 0, 0, 0, 0, 0],\n",
       "   [1, 1, 1, 1, 0, 0, 0, 0, 0],\n",
       "   [1, 1, 1, 1, 0, 0, 0, 0, 0, 0],\n",
       "   [1, 1, 1, 1, 1, 0, 0, 0, 0, 0, 0]], 'prob_rand': [0.8232233047033631,\n",
       "   0.4734694342680089,\n",
       "   0.793386865136241,\n",
       "   0.26387866029145934,\n",
       "   0.6483396454197464,\n",
       "   0.922265371617548,\n",
       "   0.44846499182411514,\n",
       "   0.7276958372916811,\n",
       "   0.05667075024164053,\n",
       "   0.5252716288535647]},\n",
       " (4,\n",
       "  0): {'breaking_wand_probabilities': [0.16061108800041962,\n",
       "   0.16061108800041962,\n",
       "   0.16061108800041962,\n",
       "   0.16061108800041962,\n",
       "   0.16061108800041962,\n",
       "   0.16061108800041962,\n",
       "   0.16061108800041962,\n",
       "   0.16061108800041962,\n",
       "   0.16061108800041962,\n",
       "   0.16061108800041962], 'gamma': 0.7763932022500211, 'theta': [0,\n",
       "   0,\n",
       "   1,\n",
       "   1,\n",
       "   1,\n",
       "   1,\n",
       "   1,\n",
       "   1,\n",
       "   2,\n",
       "   2], 'open_list': [[1, 0],\n",
       "   [0, 0, 0],\n",
       "   [1, 0, 0, 0],\n",
       "   [1, 0, 0, 0, 0],\n",
       "   [1, 1, 0, 0, 0, 0],\n",
       "   [1, 0, 0, 0, 0, 0, 0],\n",
       "   [1, 0, 0, 0, 0, 0, 0, 0],\n",
       "   [1, 1, 0, 0, 0, 0, 0, 0, 0],\n",
       "   [1, 1, 1, 0, 0, 0, 0, 0, 0, 0],\n",
       "   [1, 1, 0, 0, 0, 0, 0, 0, 0, 0, 0]], 'prob_rand': [0.7763932022500211,\n",
       "   0.8869997233488219,\n",
       "   0.10340201566425712,\n",
       "   0.4000548912198628,\n",
       "   0.558146763455744,\n",
       "   0.680356391288283,\n",
       "   0.7970620081756938,\n",
       "   0.9243315492917975,\n",
       "   0.140357846192825,\n",
       "   0.34200613344598696]},\n",
       " (4,\n",
       "  1): {'breaking_wand_probabilities': [0.23941737879822203,\n",
       "   0.23941737879822203,\n",
       "   0.23941737879822203,\n",
       "   0.23941737879822203,\n",
       "   0.23941737879822203,\n",
       "   0.23941737879822203,\n",
       "   0.23941737879822203,\n",
       "   0.23941737879822203,\n",
       "   0.23941737879822203,\n",
       "   0.23941737879822203], 'gamma': 0.7958758547680684, 'theta': [0,\n",
       "   0,\n",
       "   1,\n",
       "   1,\n",
       "   1,\n",
       "   2,\n",
       "   2,\n",
       "   2,\n",
       "   2,\n",
       "   2], 'open_list': [[1, 0],\n",
       "   [1, 0, 0],\n",
       "   [1, 0, 0, 0],\n",
       "   [1, 1, 0, 0, 0],\n",
       "   [1, 1, 0, 0, 0, 0],\n",
       "   [1, 1, 0, 0, 0, 0, 0],\n",
       "   [1, 1, 1, 0, 0, 0, 0, 0],\n",
       "   [1, 1, 1, 0, 0, 0, 0, 0, 0],\n",
       "   [1, 1, 1, 0, 0, 0, 0, 0, 0, 0],\n",
       "   [1, 1, 1, 0, 0, 0, 0, 0, 0, 0, 0]], 'prob_rand': [0.7958758547680684,\n",
       "   0.9832261712142402,\n",
       "   0.4643718634272084,\n",
       "   0.6677870333411692,\n",
       "   0.8391793762131191,\n",
       "   0.0929556129121921,\n",
       "   0.41501409185468124,\n",
       "   0.6004423174253372,\n",
       "   0.7635666040131132,\n",
       "   0.9461629284476532]}}"
      ]
     },
     "execution_count": 9,
     "metadata": {},
     "output_type": "execute_result"
    }
   ],
   "source": [
    "fulfillment_policy.solve_magician_problems(conservative_prob=0.5, cdfs_magician_problems=cdfs)"
   ]
  },
  {
   "cell_type": "code",
   "execution_count": 14,
   "metadata": {},
   "outputs": [],
   "source": [
    "# items, location = fulfillment_instance.df_orders_location.iloc[32][0]\n",
    "# print(items, location)"
   ]
  },
  {
   "cell_type": "code",
   "execution_count": 3,
   "metadata": {},
   "outputs": [],
   "source": [
    "inventory_consumption = fulfillment_policy.initialize_inventory_consumption()\n",
    "magician_problems = fulfillment_policy.generate_magician_problems(conservative_prob=1)\n",
    "sampled_orders_index, sampled_orders, sampled_methods, accepts_decisions, fulfillment_costs = fulfillment_policy.fulfillment_policy(inventory_consumption, magician_problems, seed_value=1)"
   ]
  },
  {
   "cell_type": "code",
   "execution_count": 25,
   "metadata": {},
   "outputs": [
    {
     "data": {
      "text/plain": [
       "[((4,), 0),\n",
       " ((0, 1, 3, 4), 0),\n",
       " ((0, 1, 4), 0),\n",
       " ((0, 2, 3), 0),\n",
       " ((4,), 0),\n",
       " ((0, 1, 2, 4), 0),\n",
       " ((0, 1, 3, 4), 0),\n",
       " ((1, 3), 0),\n",
       " ((0, 1), 0),\n",
       " ((1, 2, 3, 4), 0)]"
      ]
     },
     "execution_count": 25,
     "metadata": {},
     "output_type": "execute_result"
    }
   ],
   "source": [
    "sampled_orders"
   ]
  },
  {
   "cell_type": "code",
   "execution_count": 27,
   "metadata": {},
   "outputs": [
    {
     "data": {
      "text/plain": [
       "[[(4, 1)],\n",
       " [(0, 1), (1, 1), (3, 1), (4, 1)],\n",
       " [(0, 1), (1, 1), (4, 1)],\n",
       " [(0, 1), (2, 1), (3, 1)],\n",
       " [(4, 1)],\n",
       " [(0, 1), (1, 1), (2, 1), (4, 1)],\n",
       " [(0, 1), (1, 1), (3, 1), (4, 1)],\n",
       " [(1, 1), (3, 1)],\n",
       " [(0, 1), (1, 1)],\n",
       " [(1, 1), (2, 1), (3, 1), (4, 1)]]"
      ]
     },
     "execution_count": 27,
     "metadata": {},
     "output_type": "execute_result"
    }
   ],
   "source": [
    "sampled_methods"
   ]
  },
  {
   "cell_type": "code",
   "execution_count": null,
   "metadata": {},
   "outputs": [],
   "source": [
    "# fulfillment_policy.probabilistic_fulfillment()"
   ]
  },
  {
   "cell_type": "code",
   "execution_count": null,
   "metadata": {},
   "outputs": [],
   "source": [
    "# fulfillment_instance.demand_distribution_by_type"
   ]
  },
  {
   "cell_type": "code",
   "execution_count": null,
   "metadata": {},
   "outputs": [],
   "source": [
    "# fulfillment_instance.demand_distribution_by_type_by_location"
   ]
  },
  {
   "cell_type": "code",
   "execution_count": null,
   "metadata": {},
   "outputs": [],
   "source": [
    "# fulfillment_instance.order_types"
   ]
  },
  {
   "cell_type": "code",
   "execution_count": null,
   "metadata": {},
   "outputs": [],
   "source": [
    "# self.demand_distribution_by_type_by_location[n][q][j] # n index is the order size, q index is the order type, j index is the location\n",
    "# fulfillment_instance.demand_distribution_by_type_by_location[1][1][0]"
   ]
  },
  {
   "attachments": {},
   "cell_type": "markdown",
   "metadata": {},
   "source": [
    "# Items"
   ]
  },
  {
   "cell_type": "code",
   "execution_count": null,
   "metadata": {},
   "outputs": [],
   "source": [
    "print(fulfillment_instance.items) # Items\n",
    "print(fulfillment_instance.num_items) # Number of items"
   ]
  },
  {
   "attachments": {},
   "cell_type": "markdown",
   "metadata": {},
   "source": [
    "# Facilities"
   ]
  },
  {
   "cell_type": "code",
   "execution_count": null,
   "metadata": {},
   "outputs": [],
   "source": [
    "print(fulfillment_instance.facilities_data) # path to facilities data\n",
    "print(fulfillment_instance.fulfillment_centers) # facilities data(frame)\n",
    "print(fulfillment_instance.facility_indices) # list of facility indices\n",
    "print(fulfillment_instance.facility_locations) # list of facility locations (y axis and x axis)\n",
    "print(fulfillment_instance.num_facilities) # number of facilities "
   ]
  },
  {
   "attachments": {},
   "cell_type": "markdown",
   "metadata": {},
   "source": [
    "# Cities"
   ]
  },
  {
   "cell_type": "code",
   "execution_count": null,
   "metadata": {},
   "outputs": [],
   "source": [
    "print(fulfillment_instance.cities_data) # path to cities data\n",
    "print(fulfillment_instance.cities) # cities data(frame)\n",
    "print(fulfillment_instance.city_indices) # list of city indices\n",
    "print(fulfillment_instance.city_locations) # # list of facility locations (longitude y axis and latitude x axis)\n",
    "print(fulfillment_instance.num_cities) # number of cities"
   ]
  },
  {
   "attachments": {},
   "cell_type": "markdown",
   "metadata": {},
   "source": [
    "# Population"
   ]
  },
  {
   "cell_type": "code",
   "execution_count": null,
   "metadata": {},
   "outputs": [],
   "source": [
    "print(fulfillment_instance.population) # Population per city\n",
    "print(fulfillment_instance.total_population) # total_population"
   ]
  },
  {
   "attachments": {},
   "cell_type": "markdown",
   "metadata": {},
   "source": [
    "# Facilities and Cities"
   ]
  },
  {
   "cell_type": "code",
   "execution_count": null,
   "metadata": {},
   "outputs": [],
   "source": [
    "# Cities blue and facilities red\n",
    "fulfillment_instance.plot_cities_and_facilities()\n",
    "\n",
    "# City 0: New York\n",
    "# City 1: California\n",
    "\n",
    "# Facility 0: California\n",
    "# Facility 1: Indiana"
   ]
  },
  {
   "attachments": {},
   "cell_type": "markdown",
   "metadata": {},
   "source": [
    "# Orders"
   ]
  },
  {
   "cell_type": "code",
   "execution_count": null,
   "metadata": {},
   "outputs": [],
   "source": [
    "print(fulfillment_instance.n_max) # Maximum number of items in an order\n",
    "print(fulfillment_instance.n_0) # Number of orders with order size n for n=1,...,n_max\n",
    "print(fulfillment_instance.prob_order_size) # Probability of receiving an order of size n for n=0,...,n_max\n",
    "print(fulfillment_instance.order_types) # List of order types\n"
   ]
  },
  {
   "cell_type": "code",
   "execution_count": null,
   "metadata": {},
   "outputs": [],
   "source": [
    "fulfillment_instance.df_orders # Dataframe of order types"
   ]
  },
  {
   "cell_type": "code",
   "execution_count": null,
   "metadata": {},
   "outputs": [],
   "source": [
    "fulfillment_instance.df_orders_location # Dataframe of order types with locations"
   ]
  },
  {
   "cell_type": "code",
   "execution_count": null,
   "metadata": {},
   "outputs": [],
   "source": [
    "print(fulfillment_instance.demand_distribution_by_type) # Probability distribution by type for each order size n (length n_max) (remember that each size has n_0 different types)\n",
    "print(f\"\\n{fulfillment_instance.demand_distribution_by_type_by_location}\") # Demand distribution by type and by location (scaling probabilities by population)\n",
    "print(f\"\\n{fulfillment_instance.agg_demand_distribution_by_type_by_location}\") # Aggregate demand distribution (over time) by type and by location"
   ]
  },
  {
   "cell_type": "code",
   "execution_count": null,
   "metadata": {},
   "outputs": [],
   "source": [
    "print(sum(fulfillment_instance.demand_distribution_by_type_by_location[1][0])) # check consistency of demand distribution by type and by location (size 1, index type 0)"
   ]
  },
  {
   "cell_type": "code",
   "execution_count": null,
   "metadata": {},
   "outputs": [],
   "source": [
    "print(f\"\\n{fulfillment_instance.reshape_arrival_prob}\")\n",
    "print(f\"\\n{fulfillment_instance.reshape_agg_arrival_prob}\")"
   ]
  },
  {
   "attachments": {},
   "cell_type": "markdown",
   "metadata": {},
   "source": [
    "# Inventory"
   ]
  },
  {
   "cell_type": "code",
   "execution_count": null,
   "metadata": {},
   "outputs": [],
   "source": [
    "print(fulfillment_instance.p_stock) # Probability of having an item i at facility k in stock\n",
    "print(fulfillment_instance.CSL) # Quantile of the standard normal used in the safety stock formula\n",
    "fulfillment_instance.data_inventory \n",
    "fulfillment_instance.df_inventory # Create inventory data for each facility and item"
   ]
  },
  {
   "cell_type": "code",
   "execution_count": null,
   "metadata": {},
   "outputs": [],
   "source": [
    "print(fulfillment_instance.location_customers_by_facility_and_item) # Set of cities served by each facility for each item (ordered by facilities and items, i.e. [k][i])\n",
    "print(fulfillment_instance.expected_demand_k_i) # Expected demand for each facility and item\n",
    "\n",
    "# Expected demand for some items is zero because they are not part of an order type"
   ]
  },
  {
   "cell_type": "code",
   "execution_count": null,
   "metadata": {},
   "outputs": [],
   "source": [
    "print(fulfillment_instance.safety_stock) # Safety stock (based on the expected demand and service level) for each facility and item"
   ]
  },
  {
   "attachments": {},
   "cell_type": "markdown",
   "metadata": {},
   "source": [
    "# Methods"
   ]
  },
  {
   "cell_type": "code",
   "execution_count": null,
   "metadata": {},
   "outputs": [],
   "source": [
    "fulfillment_instance.all_methods_location[-1] # For each (order,location) pair find all methods (ordered by order types)"
   ]
  },
  {
   "cell_type": "code",
   "execution_count": null,
   "metadata": {},
   "outputs": [],
   "source": [
    "print(fulfillment_instance.all_costs[-1]) # For each (order,location) pair find the cost of the methods"
   ]
  },
  {
   "cell_type": "code",
   "execution_count": null,
   "metadata": {},
   "outputs": [],
   "source": [
    "print(fulfillment_instance.all_indicators[(0,1)]) # Dictionary with keys given by (i,k) and the value is a list of length given by the total number of (order, location) pairs\n",
    "# Length of each sublist is gien by the number of methods for that (order, location) pair (elements are 0 or 1)"
   ]
  },
  {
   "attachments": {},
   "cell_type": "markdown",
   "metadata": {},
   "source": [
    "# Other parameters"
   ]
  },
  {
   "cell_type": "code",
   "execution_count": null,
   "metadata": {},
   "outputs": [],
   "source": [
    "print(fulfillment_instance.T) # Time horizon"
   ]
  },
  {
   "attachments": {},
   "cell_type": "markdown",
   "metadata": {},
   "source": [
    "# Cost of transportation and distances between cities and facilities"
   ]
  },
  {
   "cell_type": "code",
   "execution_count": null,
   "metadata": {},
   "outputs": [],
   "source": [
    "print(fulfillment_instance.costs) # costs of shipping from facility k to city j, represented as a (K+1) x J matrix (last row is for the dummy facility)\n",
    "print(fulfillment_instance.fixed_costs+fulfillment_instance.unit_costs == fulfillment_instance.costs) # fixed_cost = 8.759, variable_cost[k][j] = 0.423 + 0.000541 ∗ dists[k][j]"
   ]
  },
  {
   "cell_type": "code",
   "execution_count": null,
   "metadata": {},
   "outputs": [],
   "source": [
    "print(fulfillment_instance.distances) # K x J matrix of distances between facilities and cities (in miles between two points on Earth)"
   ]
  },
  {
   "cell_type": "code",
   "execution_count": null,
   "metadata": {},
   "outputs": [],
   "source": [
    "fulfillment_instance.plot_cities_and_facilities()"
   ]
  },
  {
   "attachments": {},
   "cell_type": "markdown",
   "metadata": {},
   "source": [
    "# Solving the LP relaxation"
   ]
  },
  {
   "cell_type": "code",
   "execution_count": null,
   "metadata": {},
   "outputs": [],
   "source": [
    "solving_LP = SolvingLP(fulfillment_instance)"
   ]
  },
  {
   "cell_type": "code",
   "execution_count": null,
   "metadata": {},
   "outputs": [],
   "source": [
    "LP_solution, methods = solving_LP.optimize_LP_relaxation()"
   ]
  },
  {
   "cell_type": "code",
   "execution_count": null,
   "metadata": {},
   "outputs": [],
   "source": [
    "print(fulfillment_instance.all_costs) # For each (order,location) pair find the cost of the methods"
   ]
  },
  {
   "cell_type": "code",
   "execution_count": null,
   "metadata": {},
   "outputs": [],
   "source": [
    "# if LP_solution is not None:\n",
    "#     print(f\"\\n{LP_solution}\")\n",
    "#     print(f\"\\n{methods}\")\n",
    "#     probabilities = solving_LP.calculate_probabilities_of_consumption(LP_solution)\n",
    "#     consumption_probability_lists = solving_LP.generate_consumption_probability_lists(probabilities)\n",
    "#     print(f\"\\n{probabilities}\")\n",
    "#     print(f\"\\n{consumption_probability_lists}\")\n",
    "# else:\n",
    "#     print(\"LP optimization did not find a feasible solution.\")\n",
    "    \n",
    "# Solution makes sense:\n",
    "# Order (0,) from location 0 is fulfilled from facility 1 (closest facility): so (0,1) is the method used\n",
    "# Order (0,) from location 1 is fulfilled from facility 0 (closest facility): so (0,0) is the method used\n",
    "# Order (0,2) from location 0 is fulfilled from facility 1 (closest facility): so [(0,1),(2,1)] is the method used\n",
    "# Order (0,2) from location 1 is fulfilled from facility 0 (closest facility): so [(0,0),(2,0)] is the method used"
   ]
  },
  {
   "attachments": {},
   "cell_type": "markdown",
   "metadata": {},
   "source": [
    "# Magician Problem"
   ]
  },
  {
   "cell_type": "code",
   "execution_count": null,
   "metadata": {},
   "outputs": [],
   "source": [
    "x = np.random.uniform()*np.ones(fulfillment_instance.T)  # Sequence of probabilities of breaking a wand\n",
    "gamma = 0.5 # Value for gamma\n",
    "\n",
    "# Create a magicina problem instance\n",
    "magician_problem = MagicianProblem(x, gamma, fulfillment_instance)\n",
    "\n",
    "# Solve the magician problem\n",
    "theta, open_list, prob_rand = magician_problem.solve()\n",
    "\n",
    "# # Sequence of thresolds to decide whether to open a box or not (compare this with number of consumed inventory in the past)\n",
    "# print(f\"Theta values (thresolds): {theta}\") # Note that the decision of opening the first box is always randomized (theta is zero)\n",
    "\n",
    "# # Each list is a sequence of decisions to open a box or not. The indexes in each list correcpond to number of consumed inventory in the past\n",
    "# print(f\"Open box lists: {open_list}\")\n",
    "\n",
    "# # Probability of randomized decision to open a box (probability of success of the bernoulli trial)\n",
    "# print(f\"Randomly generated probabilities of opening a box: {prob_rand}\")\n"
   ]
  },
  {
   "attachments": {},
   "cell_type": "markdown",
   "metadata": {},
   "source": [
    "# Magician-based fulfillment policy (done from scratch, i.e., defining the model, the LP relaxation and solving it)"
   ]
  },
  {
   "cell_type": "code",
   "execution_count": null,
   "metadata": {},
   "outputs": [],
   "source": [
    "fulfillment_instance = OrderFulfillment(num_items=3, n_max=2, n_0=1,\n",
    "                                        p_stock=1, T=10**2, CSL=0.5,\n",
    "                                        facilities_data=\"Data/fulfillment_centers_warmup_test.csv\", cities_data=\"Data/cities_warmup_test.csv\", prob_seed_value=1, order_seed_value=1, inv_seed_value=1)\n",
    "\n",
    "# Create an instance of FulfillmentPolicy (same as fulfillment_instance in this case)\n",
    "fulfillment_policy = FulfillmentPolicy(num_items=3, n_max=2, n_0=1,\n",
    "                                       p_stock=1, T=10**2, CSL=0.5,\n",
    "                                       facilities_data=\"Data/fulfillment_centers_warmup_test.csv\", cities_data=\"Data/cities_warmup_test.csv\", prob_seed_value=1, order_seed_value=1, inv_seed_value=1)\n",
    "\n",
    "# Optimize the LP relaxation\n",
    "LP_solution, methods = fulfillment_policy.solving_LP_instance.optimize_LP_relaxation()\n",
    "\n",
    "# Define probabilities for magician problems\n",
    "probabilities = fulfillment_policy.solving_LP_instance.calculate_probabilities_of_consumption(LP_solution)\n",
    "consumption_probability_lists = fulfillment_policy.solving_LP_instance.generate_consumption_probability_lists(probabilities)"
   ]
  },
  {
   "attachments": {},
   "cell_type": "markdown",
   "metadata": {},
   "source": [
    "# IMPLEMENT POLICY"
   ]
  },
  {
   "cell_type": "code",
   "execution_count": null,
   "metadata": {},
   "outputs": [],
   "source": [
    "# Generate magician problems (dictionary where the keys are (i,k))\n",
    "magician_problems = fulfillment_policy.generate_magician_problems(conservative_prob=1)\n",
    "\n",
    "# Initialize inventory consumption\n",
    "inventory_consumption = fulfillment_policy.initialize_inventory_consumption()\n",
    "\n",
    "# Perform fulfillment policy with magician-based acceptance\n",
    "sampled_orders_index, sampled_orders, sampled_methods, accepts_decisions, fulfillment_costs = fulfillment_policy.fulfillment_policy(inventory_consumption, magician_problems, seed_value=1)\n",
    "\n",
    "# Perform fulfillment policy with always accept methods\n",
    "sampled_orders_index_aa, sampled_orders_aa, sampled_methods_aa, accepts_decisions_aa, fulfillment_costs_aa = fulfillment_policy.always_accept_policy(inventory_consumption, seed_value=1)\n",
    "\n",
    "# Check consistency of inventory consumption\n",
    "fulfillment_policy.check_consistency(inventory_consumption)"
   ]
  },
  {
   "cell_type": "code",
   "execution_count": null,
   "metadata": {},
   "outputs": [],
   "source": [
    "# print(f\"\\n{sampled_orders_index}\")\n",
    "# print(f\"\\n{sampled_orders}\")\n",
    "# print(f\"\\n{sampled_methods}\")\n",
    "# print(f\"\\n{accepts_decisions}\")\n",
    "# print(f\"\\n{fulfillment_costs}\")\n",
    "# print(f\"\\n{sum(fulfillment_costs)}\")"
   ]
  },
  {
   "cell_type": "code",
   "execution_count": null,
   "metadata": {},
   "outputs": [],
   "source": [
    "# print(f\"\\n{sampled_orders_index_aa}\")\n",
    "# print(f\"\\n{sampled_orders_aa}\")\n",
    "# print(f\"\\n{sampled_methods_aa}\")\n",
    "# print(f\"\\n{accepts_decisions_aa}\")\n",
    "# print(f\"\\n{fulfillment_costs_aa}\")\n",
    "# print(f\"\\n{sum(fulfillment_costs_aa)}\")"
   ]
  },
  {
   "attachments": {},
   "cell_type": "markdown",
   "metadata": {},
   "source": [
    "# Plot difference in costs between magician-based policy and always_accept"
   ]
  },
  {
   "attachments": {},
   "cell_type": "markdown",
   "metadata": {},
   "source": [
    "# Count how many times our policy is better than always accepting"
   ]
  },
  {
   "cell_type": "code",
   "execution_count": null,
   "metadata": {},
   "outputs": [],
   "source": [
    "T = 10**2\n",
    "num_iterations = 1000\n",
    "seed_values = np.arange(1, num_iterations + 1)\n",
    "\n",
    "count_fulfillment_policy = 0\n",
    "count_always_accept_policy = 0\n",
    "tie = 0\n",
    "\n",
    "expected_costs_fulfillment = []\n",
    "expected_costs_always_accept = []\n",
    "plot_difference = []\n",
    "\n",
    "for seed_value in seed_values:\n",
    "    # Initialize inventory consumption\n",
    "    inventory_consumption = fulfillment_policy.initialize_inventory_consumption()\n",
    "    # Perform fulfillment policy\n",
    "    sampled_orders_index, sampled_orders, sampled_methods, accepts_decisions, fulfillment_costs = fulfillment_policy.fulfillment_policy(inventory_consumption, magician_problems, seed_value=seed_value)\n",
    "    total_fulfillment_cost = sum(fulfillment_costs)\n",
    "    # Check consistency of inventory consumption\n",
    "    fulfillment_policy.check_consistency(inventory_consumption)\n",
    "\n",
    "    # Initialize inventory consumption\n",
    "    inventory_consumption = fulfillment_policy.initialize_inventory_consumption()\n",
    "    # Perform fulfillment policy with always accept methods\n",
    "    sampled_orders_index_aa, sampled_orders_aa, sampled_methods_aa, accepts_decisions_aa, fulfillment_costs_aa = fulfillment_policy.always_accept_policy(inventory_consumption, seed_value=seed_value)\n",
    "    total_always_accept_cost = sum(fulfillment_costs_aa)\n",
    "    # Check consistency of inventory consumption\n",
    "    fulfillment_policy.check_consistency(inventory_consumption)\n",
    "\n",
    "    # Append the sum of fulfillment costs for this iteration\n",
    "    expected_costs_fulfillment.append(total_fulfillment_cost)\n",
    "    expected_costs_always_accept.append(total_always_accept_cost)\n",
    "    plot_difference.append(total_fulfillment_cost - total_always_accept_cost)\n",
    "\n",
    "    # Check which policy has lower costs and update counters accordingly\n",
    "    if total_fulfillment_cost < total_always_accept_cost:\n",
    "        count_fulfillment_policy += 1\n",
    "    elif total_always_accept_cost < total_fulfillment_cost:\n",
    "        count_always_accept_policy += 1\n",
    "    elif total_fulfillment_cost == total_always_accept_cost:\n",
    "        tie += 1\n",
    "\n",
    "plt.figure(figsize=(10, 6))\n",
    "plt.plot(seed_values, plot_difference, label='Difference fulfillment-always_accept')\n",
    "plt.xlabel('Seed Value')\n",
    "plt.ylabel('Value')\n",
    "plt.title('Expected Total Cost Difference vs. Seed Value')\n",
    "plt.legend()\n",
    "plt.grid(True)\n",
    "plt.show()\n",
    "\n",
    "with open(f'results_{T}_.txt', 'w') as f:\n",
    "    f.write(\"Expected cost of our policy: \" + str(sum(expected_costs_fulfillment)/num_iterations) + \"\\n\")\n",
    "    f.write(\"Expected cost of always_accept_policy: \" + str(sum(expected_costs_always_accept)/num_iterations) + \"\\n\")\n",
    "    f.write(\"Number of times magician-based fulfillment policy is better: \" + str(count_fulfillment_policy) + \"\\n\")\n",
    "    f.write(\"Number of times always_accept_policy is better: \" + str(count_always_accept_policy) + \"\\n\")\n",
    "    f.write(\"Policies have the same cost: \" + str(tie) + \"\\n\")\n"
   ]
  },
  {
   "cell_type": "code",
   "execution_count": null,
   "metadata": {},
   "outputs": [],
   "source": [
    "# Gamma based magician might be too conservative: try a gamma = 1-x/sqrt(S_ik+3) with 0=<x<=1"
   ]
  },
  {
   "cell_type": "code",
   "execution_count": null,
   "metadata": {},
   "outputs": [],
   "source": [
    "# Way to check consistency with always accept policy is to use gamma = 1"
   ]
  }
 ],
 "metadata": {
  "kernelspec": {
   "display_name": "Python 3",
   "language": "python",
   "name": "python3"
  },
  "language_info": {
   "codemirror_mode": {
    "name": "ipython",
    "version": 3
   },
   "file_extension": ".py",
   "mimetype": "text/x-python",
   "name": "python",
   "nbconvert_exporter": "python",
   "pygments_lexer": "ipython3",
   "version": "3.9.5"
  },
  "orig_nbformat": 4,
  "vscode": {
   "interpreter": {
    "hash": "2ac85b258e6f1aacd8a339ff9c1932e82085d063424191d145bf0976e434bf30"
   }
  }
 },
 "nbformat": 4,
 "nbformat_minor": 2
}
